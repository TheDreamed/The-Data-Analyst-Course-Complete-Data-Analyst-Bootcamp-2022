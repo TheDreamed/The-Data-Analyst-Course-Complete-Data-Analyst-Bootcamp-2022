{
 "cells": [
  {
   "cell_type": "markdown",
   "metadata": {},
   "source": [
    "<hr style=\"border:5px solid #108999\">"
   ]
  },
  {
   "cell_type": "markdown",
   "metadata": {},
   "source": [
    "# pandas DataFrames <hr style=\"border:4.5px solid #108999\">"
   ]
  },
  {
   "cell_type": "markdown",
   "metadata": {},
   "source": [
    "Import the pandas and numpy libraries by using the relevant well-known conventions."
   ]
  },
  {
   "cell_type": "code",
   "execution_count": 1,
   "metadata": {},
   "outputs": [],
   "source": [
    "import pandas as pd\n",
    "import numpy as np"
   ]
  },
  {
   "cell_type": "markdown",
   "metadata": {},
   "source": [
    "## A Revision to pandas DataFrames"
   ]
  },
  {
   "cell_type": "markdown",
   "metadata": {},
   "source": [
    "The goal of this exercise is to solidify your knowledge and understanding of the fundamentals of using pandas DataFrames."
   ]
  },
  {
   "cell_type": "markdown",
   "metadata": {},
   "source": [
    "Execute the next code cell to create the array called **array_c**."
   ]
  },
  {
   "cell_type": "code",
   "execution_count": 2,
   "metadata": {},
   "outputs": [
    {
     "data": {
      "text/plain": [
       "array([[1000.  ,   50.  ,   78.45],\n",
       "       [ 700.  ,  112.  ,   35.5 ]])"
      ]
     },
     "execution_count": 2,
     "metadata": {},
     "output_type": "execute_result"
    }
   ],
   "source": [
    "array_c = np.array([[1000, 50, 78.45], [700, 112, 35.5]])\n",
    "array_c"
   ]
  },
  {
   "cell_type": "markdown",
   "metadata": {},
   "source": [
    "Convert **array_c** into a DataFrame, called **company_statistics**. Assign the column names and row labels from the following lists as column names and index of this DataFrame, respectively. "
   ]
  },
  {
   "cell_type": "code",
   "execution_count": 3,
   "metadata": {},
   "outputs": [
    {
     "data": {
      "text/plain": [
       "['No. of Employees', 'Avg. Annual Revenue ($)', 'Share price ($)']"
      ]
     },
     "execution_count": 3,
     "metadata": {},
     "output_type": "execute_result"
    }
   ],
   "source": [
    "# column names\n",
    "['No. of Employees', 'Avg. Annual Revenue ($)', 'Share price ($)']"
   ]
  },
  {
   "cell_type": "code",
   "execution_count": 4,
   "metadata": {},
   "outputs": [
    {
     "data": {
      "text/plain": [
       "['Company A', 'Company B']"
      ]
     },
     "execution_count": 4,
     "metadata": {},
     "output_type": "execute_result"
    }
   ],
   "source": [
    "# row labels\n",
    "['Company A', 'Company B']"
   ]
  },
  {
   "cell_type": "code",
   "execution_count": 5,
   "metadata": {},
   "outputs": [],
   "source": [
    "company_statistics = pd.DataFrame(array_c, columns = ['No. of Employees', 'Avg. Annual Revenue ($)', 'Share price ($)'], index = ['Company A', 'Company B'])"
   ]
  },
  {
   "cell_type": "markdown",
   "metadata": {},
   "source": [
    "Display the **company_statistics** DataFrame."
   ]
  },
  {
   "cell_type": "code",
   "execution_count": 6,
   "metadata": {},
   "outputs": [
    {
     "data": {
      "text/html": [
       "<div>\n",
       "<style scoped>\n",
       "    .dataframe tbody tr th:only-of-type {\n",
       "        vertical-align: middle;\n",
       "    }\n",
       "\n",
       "    .dataframe tbody tr th {\n",
       "        vertical-align: top;\n",
       "    }\n",
       "\n",
       "    .dataframe thead th {\n",
       "        text-align: right;\n",
       "    }\n",
       "</style>\n",
       "<table border=\"1\" class=\"dataframe\">\n",
       "  <thead>\n",
       "    <tr style=\"text-align: right;\">\n",
       "      <th></th>\n",
       "      <th>No. of Employees</th>\n",
       "      <th>Avg. Annual Revenue ($)</th>\n",
       "      <th>Share price ($)</th>\n",
       "    </tr>\n",
       "  </thead>\n",
       "  <tbody>\n",
       "    <tr>\n",
       "      <th>Company A</th>\n",
       "      <td>1000.0</td>\n",
       "      <td>50.0</td>\n",
       "      <td>78.45</td>\n",
       "    </tr>\n",
       "    <tr>\n",
       "      <th>Company B</th>\n",
       "      <td>700.0</td>\n",
       "      <td>112.0</td>\n",
       "      <td>35.50</td>\n",
       "    </tr>\n",
       "  </tbody>\n",
       "</table>\n",
       "</div>"
      ],
      "text/plain": [
       "           No. of Employees  Avg. Annual Revenue ($)  Share price ($)\n",
       "Company A            1000.0                     50.0            78.45\n",
       "Company B             700.0                    112.0            35.50"
      ]
     },
     "execution_count": 6,
     "metadata": {},
     "output_type": "execute_result"
    }
   ],
   "source": [
    "company_statistics"
   ]
  },
  {
   "cell_type": "markdown",
   "metadata": {},
   "source": [
    "Import the *Sales-products.csv* dataset into a DataFrame object called **sales_products_data**."
   ]
  },
  {
   "cell_type": "markdown",
   "metadata": {},
   "source": [
    "*Note: Please use the default index provided for this DataFrame throughout this exercise.*"
   ]
  },
  {
   "cell_type": "code",
   "execution_count": 7,
   "metadata": {},
   "outputs": [
    {
     "data": {
      "text/html": [
       "<div>\n",
       "<style scoped>\n",
       "    .dataframe tbody tr th:only-of-type {\n",
       "        vertical-align: middle;\n",
       "    }\n",
       "\n",
       "    .dataframe tbody tr th {\n",
       "        vertical-align: top;\n",
       "    }\n",
       "\n",
       "    .dataframe thead th {\n",
       "        text-align: right;\n",
       "    }\n",
       "</style>\n",
       "<table border=\"1\" class=\"dataframe\">\n",
       "  <thead>\n",
       "    <tr style=\"text-align: right;\">\n",
       "      <th></th>\n",
       "      <th>SaleID</th>\n",
       "      <th>RetailerCountry</th>\n",
       "      <th>OrderMethod</th>\n",
       "      <th>RetailerType</th>\n",
       "      <th>ProductLine</th>\n",
       "      <th>ProductType</th>\n",
       "      <th>Product</th>\n",
       "      <th>Year</th>\n",
       "      <th>Quarter</th>\n",
       "      <th>Revenue</th>\n",
       "      <th>Quantity</th>\n",
       "      <th>GrossMargin</th>\n",
       "    </tr>\n",
       "  </thead>\n",
       "  <tbody>\n",
       "    <tr>\n",
       "      <th>0</th>\n",
       "      <td>SaleID_1</td>\n",
       "      <td>United States</td>\n",
       "      <td>Fax</td>\n",
       "      <td>Outdoors Shop</td>\n",
       "      <td>Personal Accessories</td>\n",
       "      <td>Cooking Gear</td>\n",
       "      <td>TrailChef Deluxe Cook Set</td>\n",
       "      <td>2018.0</td>\n",
       "      <td>Q1 2018</td>\n",
       "      <td>59728.66</td>\n",
       "      <td>491.0</td>\n",
       "      <td>0.357548</td>\n",
       "    </tr>\n",
       "    <tr>\n",
       "      <th>1</th>\n",
       "      <td>SaleID_2</td>\n",
       "      <td>United States</td>\n",
       "      <td>Fax</td>\n",
       "      <td>Outdoors Shop</td>\n",
       "      <td>Sports Equipment</td>\n",
       "      <td>Cooking Gear</td>\n",
       "      <td>TrailChef Double Flame</td>\n",
       "      <td>2018.0</td>\n",
       "      <td>Q1 2018</td>\n",
       "      <td>36050.32</td>\n",
       "      <td>254.0</td>\n",
       "      <td>0.484274</td>\n",
       "    </tr>\n",
       "    <tr>\n",
       "      <th>2</th>\n",
       "      <td>SaleID_3</td>\n",
       "      <td>United States</td>\n",
       "      <td>Fax</td>\n",
       "      <td>Outdoors Shop</td>\n",
       "      <td>NaN</td>\n",
       "      <td>Tents</td>\n",
       "      <td>Star Dome</td>\n",
       "      <td>2018.0</td>\n",
       "      <td>Q1 2018</td>\n",
       "      <td>90040.48</td>\n",
       "      <td>149.0</td>\n",
       "      <td>NaN</td>\n",
       "    </tr>\n",
       "    <tr>\n",
       "      <th>3</th>\n",
       "      <td>SaleID_4</td>\n",
       "      <td>United States</td>\n",
       "      <td>Fax</td>\n",
       "      <td>Outdoors Shop</td>\n",
       "      <td>NaN</td>\n",
       "      <td>Tents</td>\n",
       "      <td>Star Gazer 2</td>\n",
       "      <td>2018.0</td>\n",
       "      <td>Q1 2018</td>\n",
       "      <td>NaN</td>\n",
       "      <td>305.0</td>\n",
       "      <td>0.292938</td>\n",
       "    </tr>\n",
       "    <tr>\n",
       "      <th>4</th>\n",
       "      <td>SaleID_5</td>\n",
       "      <td>United States</td>\n",
       "      <td>NaN</td>\n",
       "      <td>Outdoors Shop</td>\n",
       "      <td>Personal Accessories</td>\n",
       "      <td>First Aid</td>\n",
       "      <td>Compact Relief Kit</td>\n",
       "      <td>2018.0</td>\n",
       "      <td>Q1 2018</td>\n",
       "      <td>NaN</td>\n",
       "      <td>182.0</td>\n",
       "      <td>0.610710</td>\n",
       "    </tr>\n",
       "  </tbody>\n",
       "</table>\n",
       "</div>"
      ],
      "text/plain": [
       "     SaleID RetailerCountry OrderMethod   RetailerType           ProductLine  \\\n",
       "0  SaleID_1   United States         Fax  Outdoors Shop  Personal Accessories   \n",
       "1  SaleID_2   United States         Fax  Outdoors Shop      Sports Equipment   \n",
       "2  SaleID_3   United States         Fax  Outdoors Shop                   NaN   \n",
       "3  SaleID_4   United States         Fax  Outdoors Shop                   NaN   \n",
       "4  SaleID_5   United States         NaN  Outdoors Shop  Personal Accessories   \n",
       "\n",
       "    ProductType                    Product    Year  Quarter   Revenue  \\\n",
       "0  Cooking Gear  TrailChef Deluxe Cook Set  2018.0  Q1 2018  59728.66   \n",
       "1  Cooking Gear     TrailChef Double Flame  2018.0  Q1 2018  36050.32   \n",
       "2         Tents                  Star Dome  2018.0  Q1 2018  90040.48   \n",
       "3         Tents               Star Gazer 2  2018.0  Q1 2018       NaN   \n",
       "4     First Aid         Compact Relief Kit  2018.0  Q1 2018       NaN   \n",
       "\n",
       "   Quantity  GrossMargin  \n",
       "0     491.0     0.357548  \n",
       "1     254.0     0.484274  \n",
       "2     149.0          NaN  \n",
       "3     305.0     0.292938  \n",
       "4     182.0     0.610710  "
      ]
     },
     "execution_count": 7,
     "metadata": {},
     "output_type": "execute_result"
    }
   ],
   "source": [
    "data = pd.read_csv('Sales-products.csv')\n",
    "sales_products_data = data.copy()\n",
    "sales_products_data.head()"
   ]
  },
  {
   "cell_type": "markdown",
   "metadata": {},
   "source": [
    "Verify that the obtained object is a pandas DataFrame."
   ]
  },
  {
   "cell_type": "code",
   "execution_count": 8,
   "metadata": {},
   "outputs": [
    {
     "data": {
      "text/plain": [
       "pandas.core.frame.DataFrame"
      ]
     },
     "execution_count": 8,
     "metadata": {},
     "output_type": "execute_result"
    }
   ],
   "source": [
    "type(sales_products_data)"
   ]
  },
  {
   "cell_type": "markdown",
   "metadata": {},
   "source": [
    "Try out a well-known pandas method used for Series on this DataFrame to obtain its last five rows. "
   ]
  },
  {
   "cell_type": "code",
   "execution_count": 9,
   "metadata": {},
   "outputs": [
    {
     "data": {
      "text/html": [
       "<div>\n",
       "<style scoped>\n",
       "    .dataframe tbody tr th:only-of-type {\n",
       "        vertical-align: middle;\n",
       "    }\n",
       "\n",
       "    .dataframe tbody tr th {\n",
       "        vertical-align: top;\n",
       "    }\n",
       "\n",
       "    .dataframe thead th {\n",
       "        text-align: right;\n",
       "    }\n",
       "</style>\n",
       "<table border=\"1\" class=\"dataframe\">\n",
       "  <thead>\n",
       "    <tr style=\"text-align: right;\">\n",
       "      <th></th>\n",
       "      <th>SaleID</th>\n",
       "      <th>RetailerCountry</th>\n",
       "      <th>OrderMethod</th>\n",
       "      <th>RetailerType</th>\n",
       "      <th>ProductLine</th>\n",
       "      <th>ProductType</th>\n",
       "      <th>Product</th>\n",
       "      <th>Year</th>\n",
       "      <th>Quarter</th>\n",
       "      <th>Revenue</th>\n",
       "      <th>Quantity</th>\n",
       "      <th>GrossMargin</th>\n",
       "    </tr>\n",
       "  </thead>\n",
       "  <tbody>\n",
       "    <tr>\n",
       "      <th>1271</th>\n",
       "      <td>SaleID_1272</td>\n",
       "      <td>Spain</td>\n",
       "      <td>Sales visit</td>\n",
       "      <td>Outdoors Shop</td>\n",
       "      <td>Personal Accessories</td>\n",
       "      <td>Rope</td>\n",
       "      <td>Husky Rope 60</td>\n",
       "      <td>2020.0</td>\n",
       "      <td>Q3 2020</td>\n",
       "      <td>30916.50</td>\n",
       "      <td>173.0</td>\n",
       "      <td>0.298114</td>\n",
       "    </tr>\n",
       "    <tr>\n",
       "      <th>1272</th>\n",
       "      <td>SaleID_1273</td>\n",
       "      <td>Spain</td>\n",
       "      <td>Sales visit</td>\n",
       "      <td>Outdoors Shop</td>\n",
       "      <td>Outdoor Protection</td>\n",
       "      <td>Climbing Accessories</td>\n",
       "      <td>Firefly Climbing Lamp</td>\n",
       "      <td>2020.0</td>\n",
       "      <td>Q3 2020</td>\n",
       "      <td>7536.29</td>\n",
       "      <td>193.0</td>\n",
       "      <td>0.445287</td>\n",
       "    </tr>\n",
       "    <tr>\n",
       "      <th>1273</th>\n",
       "      <td>SaleID_1274</td>\n",
       "      <td>Spain</td>\n",
       "      <td>Sales visit</td>\n",
       "      <td>Outdoors Shop</td>\n",
       "      <td>Personal Accessories</td>\n",
       "      <td>Climbing Accessories</td>\n",
       "      <td>Firefly Charger</td>\n",
       "      <td>2020.0</td>\n",
       "      <td>Q3 2020</td>\n",
       "      <td>12306.48</td>\n",
       "      <td>238.0</td>\n",
       "      <td>0.568420</td>\n",
       "    </tr>\n",
       "    <tr>\n",
       "      <th>1274</th>\n",
       "      <td>SaleID_1275</td>\n",
       "      <td>Spain</td>\n",
       "      <td>Sales visit</td>\n",
       "      <td>Outdoors Shop</td>\n",
       "      <td>Personal Accessories</td>\n",
       "      <td>Tools</td>\n",
       "      <td>Granite Axe</td>\n",
       "      <td>2020.0</td>\n",
       "      <td>Q3 2020</td>\n",
       "      <td>56499.00</td>\n",
       "      <td>1472.0</td>\n",
       "      <td>0.490667</td>\n",
       "    </tr>\n",
       "    <tr>\n",
       "      <th>1275</th>\n",
       "      <td>SaleID_1276</td>\n",
       "      <td>Spain</td>\n",
       "      <td>Sales visit</td>\n",
       "      <td>Outdoors Shop</td>\n",
       "      <td>Camping Equipment</td>\n",
       "      <td>Tools</td>\n",
       "      <td>Granite Extreme</td>\n",
       "      <td>2020.0</td>\n",
       "      <td>Q3 2020</td>\n",
       "      <td>89427.00</td>\n",
       "      <td>1178.0</td>\n",
       "      <td>0.386895</td>\n",
       "    </tr>\n",
       "  </tbody>\n",
       "</table>\n",
       "</div>"
      ],
      "text/plain": [
       "           SaleID RetailerCountry  OrderMethod   RetailerType  \\\n",
       "1271  SaleID_1272           Spain  Sales visit  Outdoors Shop   \n",
       "1272  SaleID_1273           Spain  Sales visit  Outdoors Shop   \n",
       "1273  SaleID_1274           Spain  Sales visit  Outdoors Shop   \n",
       "1274  SaleID_1275           Spain  Sales visit  Outdoors Shop   \n",
       "1275  SaleID_1276           Spain  Sales visit  Outdoors Shop   \n",
       "\n",
       "               ProductLine           ProductType                Product  \\\n",
       "1271  Personal Accessories                  Rope          Husky Rope 60   \n",
       "1272    Outdoor Protection  Climbing Accessories  Firefly Climbing Lamp   \n",
       "1273  Personal Accessories  Climbing Accessories        Firefly Charger   \n",
       "1274  Personal Accessories                 Tools            Granite Axe   \n",
       "1275     Camping Equipment                 Tools        Granite Extreme   \n",
       "\n",
       "        Year  Quarter   Revenue  Quantity  GrossMargin  \n",
       "1271  2020.0  Q3 2020  30916.50     173.0     0.298114  \n",
       "1272  2020.0  Q3 2020   7536.29     193.0     0.445287  \n",
       "1273  2020.0  Q3 2020  12306.48     238.0     0.568420  \n",
       "1274  2020.0  Q3 2020  56499.00    1472.0     0.490667  \n",
       "1275  2020.0  Q3 2020  89427.00    1178.0     0.386895  "
      ]
     },
     "execution_count": 9,
     "metadata": {},
     "output_type": "execute_result"
    }
   ],
   "source": [
    "sales_products_data.tail()"
   ]
  },
  {
   "cell_type": "code",
   "execution_count": null,
   "metadata": {},
   "outputs": [],
   "source": []
  },
  {
   "cell_type": "markdown",
   "metadata": {},
   "source": [
    "## Common Attributes for Working with DataFrames"
   ]
  },
  {
   "cell_type": "markdown",
   "metadata": {},
   "source": [
    "Import the *Sales-products.csv* dataset into a DataFrame object called **sales_products_data**."
   ]
  },
  {
   "cell_type": "markdown",
   "metadata": {},
   "source": [
    "*Note: Please use the default index provided for this DataFrame throughout this exercise.*"
   ]
  },
  {
   "cell_type": "code",
   "execution_count": 10,
   "metadata": {
    "scrolled": true
   },
   "outputs": [
    {
     "data": {
      "text/html": [
       "<div>\n",
       "<style scoped>\n",
       "    .dataframe tbody tr th:only-of-type {\n",
       "        vertical-align: middle;\n",
       "    }\n",
       "\n",
       "    .dataframe tbody tr th {\n",
       "        vertical-align: top;\n",
       "    }\n",
       "\n",
       "    .dataframe thead th {\n",
       "        text-align: right;\n",
       "    }\n",
       "</style>\n",
       "<table border=\"1\" class=\"dataframe\">\n",
       "  <thead>\n",
       "    <tr style=\"text-align: right;\">\n",
       "      <th></th>\n",
       "      <th>SaleID</th>\n",
       "      <th>RetailerCountry</th>\n",
       "      <th>OrderMethod</th>\n",
       "      <th>RetailerType</th>\n",
       "      <th>ProductLine</th>\n",
       "      <th>ProductType</th>\n",
       "      <th>Product</th>\n",
       "      <th>Year</th>\n",
       "      <th>Quarter</th>\n",
       "      <th>Revenue</th>\n",
       "      <th>Quantity</th>\n",
       "      <th>GrossMargin</th>\n",
       "    </tr>\n",
       "  </thead>\n",
       "  <tbody>\n",
       "    <tr>\n",
       "      <th>0</th>\n",
       "      <td>SaleID_1</td>\n",
       "      <td>United States</td>\n",
       "      <td>Fax</td>\n",
       "      <td>Outdoors Shop</td>\n",
       "      <td>Personal Accessories</td>\n",
       "      <td>Cooking Gear</td>\n",
       "      <td>TrailChef Deluxe Cook Set</td>\n",
       "      <td>2018.0</td>\n",
       "      <td>Q1 2018</td>\n",
       "      <td>59728.66</td>\n",
       "      <td>491.0</td>\n",
       "      <td>0.357548</td>\n",
       "    </tr>\n",
       "    <tr>\n",
       "      <th>1</th>\n",
       "      <td>SaleID_2</td>\n",
       "      <td>United States</td>\n",
       "      <td>Fax</td>\n",
       "      <td>Outdoors Shop</td>\n",
       "      <td>Sports Equipment</td>\n",
       "      <td>Cooking Gear</td>\n",
       "      <td>TrailChef Double Flame</td>\n",
       "      <td>2018.0</td>\n",
       "      <td>Q1 2018</td>\n",
       "      <td>36050.32</td>\n",
       "      <td>254.0</td>\n",
       "      <td>0.484274</td>\n",
       "    </tr>\n",
       "    <tr>\n",
       "      <th>2</th>\n",
       "      <td>SaleID_3</td>\n",
       "      <td>United States</td>\n",
       "      <td>Fax</td>\n",
       "      <td>Outdoors Shop</td>\n",
       "      <td>NaN</td>\n",
       "      <td>Tents</td>\n",
       "      <td>Star Dome</td>\n",
       "      <td>2018.0</td>\n",
       "      <td>Q1 2018</td>\n",
       "      <td>90040.48</td>\n",
       "      <td>149.0</td>\n",
       "      <td>NaN</td>\n",
       "    </tr>\n",
       "    <tr>\n",
       "      <th>3</th>\n",
       "      <td>SaleID_4</td>\n",
       "      <td>United States</td>\n",
       "      <td>Fax</td>\n",
       "      <td>Outdoors Shop</td>\n",
       "      <td>NaN</td>\n",
       "      <td>Tents</td>\n",
       "      <td>Star Gazer 2</td>\n",
       "      <td>2018.0</td>\n",
       "      <td>Q1 2018</td>\n",
       "      <td>NaN</td>\n",
       "      <td>305.0</td>\n",
       "      <td>0.292938</td>\n",
       "    </tr>\n",
       "    <tr>\n",
       "      <th>4</th>\n",
       "      <td>SaleID_5</td>\n",
       "      <td>United States</td>\n",
       "      <td>NaN</td>\n",
       "      <td>Outdoors Shop</td>\n",
       "      <td>Personal Accessories</td>\n",
       "      <td>First Aid</td>\n",
       "      <td>Compact Relief Kit</td>\n",
       "      <td>2018.0</td>\n",
       "      <td>Q1 2018</td>\n",
       "      <td>NaN</td>\n",
       "      <td>182.0</td>\n",
       "      <td>0.610710</td>\n",
       "    </tr>\n",
       "  </tbody>\n",
       "</table>\n",
       "</div>"
      ],
      "text/plain": [
       "     SaleID RetailerCountry OrderMethod   RetailerType           ProductLine  \\\n",
       "0  SaleID_1   United States         Fax  Outdoors Shop  Personal Accessories   \n",
       "1  SaleID_2   United States         Fax  Outdoors Shop      Sports Equipment   \n",
       "2  SaleID_3   United States         Fax  Outdoors Shop                   NaN   \n",
       "3  SaleID_4   United States         Fax  Outdoors Shop                   NaN   \n",
       "4  SaleID_5   United States         NaN  Outdoors Shop  Personal Accessories   \n",
       "\n",
       "    ProductType                    Product    Year  Quarter   Revenue  \\\n",
       "0  Cooking Gear  TrailChef Deluxe Cook Set  2018.0  Q1 2018  59728.66   \n",
       "1  Cooking Gear     TrailChef Double Flame  2018.0  Q1 2018  36050.32   \n",
       "2         Tents                  Star Dome  2018.0  Q1 2018  90040.48   \n",
       "3         Tents               Star Gazer 2  2018.0  Q1 2018       NaN   \n",
       "4     First Aid         Compact Relief Kit  2018.0  Q1 2018       NaN   \n",
       "\n",
       "   Quantity  GrossMargin  \n",
       "0     491.0     0.357548  \n",
       "1     254.0     0.484274  \n",
       "2     149.0          NaN  \n",
       "3     305.0     0.292938  \n",
       "4     182.0     0.610710  "
      ]
     },
     "execution_count": 10,
     "metadata": {},
     "output_type": "execute_result"
    }
   ],
   "source": [
    "data = pd.read_csv('Sales-products.csv')\n",
    "sales_products_data = data.copy()\n",
    "sales_products_data.head()"
   ]
  },
  {
   "cell_type": "markdown",
   "metadata": {},
   "source": [
    "Return the index of the **sales_products_data** DataFrame."
   ]
  },
  {
   "cell_type": "code",
   "execution_count": 11,
   "metadata": {},
   "outputs": [
    {
     "data": {
      "text/plain": [
       "RangeIndex(start=0, stop=1276, step=1)"
      ]
     },
     "execution_count": 11,
     "metadata": {},
     "output_type": "execute_result"
    }
   ],
   "source": [
    "sales_products_data.index"
   ]
  },
  {
   "cell_type": "markdown",
   "metadata": {},
   "source": [
    "Verify that **sales_products_data** is a RangeIndex object in an alternative way by using the **type()** funciton."
   ]
  },
  {
   "cell_type": "code",
   "execution_count": 12,
   "metadata": {},
   "outputs": [
    {
     "data": {
      "text/plain": [
       "pandas.core.indexes.range.RangeIndex"
      ]
     },
     "execution_count": 12,
     "metadata": {},
     "output_type": "execute_result"
    }
   ],
   "source": [
    "type(sales_products_data.index)"
   ]
  },
  {
   "cell_type": "markdown",
   "metadata": {},
   "source": [
    "Retrieve and Index object containing all column names from the **sales_products_data** DataFrame."
   ]
  },
  {
   "cell_type": "code",
   "execution_count": 13,
   "metadata": {
    "scrolled": true
   },
   "outputs": [
    {
     "data": {
      "text/plain": [
       "Index(['SaleID', 'RetailerCountry', 'OrderMethod', 'RetailerType',\n",
       "       'ProductLine', 'ProductType', 'Product', 'Year', 'Quarter', 'Revenue',\n",
       "       'Quantity', 'GrossMargin'],\n",
       "      dtype='object')"
      ]
     },
     "execution_count": 13,
     "metadata": {},
     "output_type": "execute_result"
    }
   ],
   "source": [
    "sales_products_data.columns"
   ]
  },
  {
   "cell_type": "markdown",
   "metadata": {},
   "source": [
    "You are requested to create a new DataFrame, called **df**, whose data is obtained from the the names of the columns of **sales_products_data** DataFrame, while the column names are obtained from the **new_column_names** list.\n",
    "<br/><br/> First, execute the next cell to create **new_column_names**, and then in the next cell try creating the **df** DataFrame yourself (by helping yourself with the newly created **new_column_names** list).\n",
    "<br/><br/> *Note: There are two ways to achieve this - one would be through utilizing the* **columns** *parameter, and the other – with the help of the* **\"columns\"** *attribute. Choose whichever option you prefer (or why not try both!).*"
   ]
  },
  {
   "cell_type": "code",
   "execution_count": 14,
   "metadata": {},
   "outputs": [],
   "source": [
    "new_column_names = ['SaleID', 'Country', 'OrderMethod', 'Retailer', 'Line',\n",
    "       'Type', 'Product', 'YearOfSales', 'Quarter', 'Revenue', 'Quantity',\n",
    "       'Margin']"
   ]
  },
  {
   "cell_type": "code",
   "execution_count": 15,
   "metadata": {},
   "outputs": [],
   "source": [
    "df = pd.DataFrame(sales_products_data, columns = new_column_names)"
   ]
  },
  {
   "cell_type": "code",
   "execution_count": 16,
   "metadata": {},
   "outputs": [],
   "source": [
    "df = pd.DataFrame(sales_products_data)\n",
    "df.columns = new_column_names"
   ]
  },
  {
   "cell_type": "markdown",
   "metadata": {},
   "source": [
    "Display the \"head\" of the **df** DataFrame."
   ]
  },
  {
   "cell_type": "code",
   "execution_count": 17,
   "metadata": {},
   "outputs": [
    {
     "data": {
      "text/html": [
       "<div>\n",
       "<style scoped>\n",
       "    .dataframe tbody tr th:only-of-type {\n",
       "        vertical-align: middle;\n",
       "    }\n",
       "\n",
       "    .dataframe tbody tr th {\n",
       "        vertical-align: top;\n",
       "    }\n",
       "\n",
       "    .dataframe thead th {\n",
       "        text-align: right;\n",
       "    }\n",
       "</style>\n",
       "<table border=\"1\" class=\"dataframe\">\n",
       "  <thead>\n",
       "    <tr style=\"text-align: right;\">\n",
       "      <th></th>\n",
       "      <th>SaleID</th>\n",
       "      <th>Country</th>\n",
       "      <th>OrderMethod</th>\n",
       "      <th>Retailer</th>\n",
       "      <th>Line</th>\n",
       "      <th>Type</th>\n",
       "      <th>Product</th>\n",
       "      <th>YearOfSales</th>\n",
       "      <th>Quarter</th>\n",
       "      <th>Revenue</th>\n",
       "      <th>Quantity</th>\n",
       "      <th>Margin</th>\n",
       "    </tr>\n",
       "  </thead>\n",
       "  <tbody>\n",
       "    <tr>\n",
       "      <th>0</th>\n",
       "      <td>SaleID_1</td>\n",
       "      <td>United States</td>\n",
       "      <td>Fax</td>\n",
       "      <td>Outdoors Shop</td>\n",
       "      <td>Personal Accessories</td>\n",
       "      <td>Cooking Gear</td>\n",
       "      <td>TrailChef Deluxe Cook Set</td>\n",
       "      <td>2018.0</td>\n",
       "      <td>Q1 2018</td>\n",
       "      <td>59728.66</td>\n",
       "      <td>491.0</td>\n",
       "      <td>0.357548</td>\n",
       "    </tr>\n",
       "    <tr>\n",
       "      <th>1</th>\n",
       "      <td>SaleID_2</td>\n",
       "      <td>United States</td>\n",
       "      <td>Fax</td>\n",
       "      <td>Outdoors Shop</td>\n",
       "      <td>Sports Equipment</td>\n",
       "      <td>Cooking Gear</td>\n",
       "      <td>TrailChef Double Flame</td>\n",
       "      <td>2018.0</td>\n",
       "      <td>Q1 2018</td>\n",
       "      <td>36050.32</td>\n",
       "      <td>254.0</td>\n",
       "      <td>0.484274</td>\n",
       "    </tr>\n",
       "    <tr>\n",
       "      <th>2</th>\n",
       "      <td>SaleID_3</td>\n",
       "      <td>United States</td>\n",
       "      <td>Fax</td>\n",
       "      <td>Outdoors Shop</td>\n",
       "      <td>NaN</td>\n",
       "      <td>Tents</td>\n",
       "      <td>Star Dome</td>\n",
       "      <td>2018.0</td>\n",
       "      <td>Q1 2018</td>\n",
       "      <td>90040.48</td>\n",
       "      <td>149.0</td>\n",
       "      <td>NaN</td>\n",
       "    </tr>\n",
       "    <tr>\n",
       "      <th>3</th>\n",
       "      <td>SaleID_4</td>\n",
       "      <td>United States</td>\n",
       "      <td>Fax</td>\n",
       "      <td>Outdoors Shop</td>\n",
       "      <td>NaN</td>\n",
       "      <td>Tents</td>\n",
       "      <td>Star Gazer 2</td>\n",
       "      <td>2018.0</td>\n",
       "      <td>Q1 2018</td>\n",
       "      <td>NaN</td>\n",
       "      <td>305.0</td>\n",
       "      <td>0.292938</td>\n",
       "    </tr>\n",
       "    <tr>\n",
       "      <th>4</th>\n",
       "      <td>SaleID_5</td>\n",
       "      <td>United States</td>\n",
       "      <td>NaN</td>\n",
       "      <td>Outdoors Shop</td>\n",
       "      <td>Personal Accessories</td>\n",
       "      <td>First Aid</td>\n",
       "      <td>Compact Relief Kit</td>\n",
       "      <td>2018.0</td>\n",
       "      <td>Q1 2018</td>\n",
       "      <td>NaN</td>\n",
       "      <td>182.0</td>\n",
       "      <td>0.610710</td>\n",
       "    </tr>\n",
       "  </tbody>\n",
       "</table>\n",
       "</div>"
      ],
      "text/plain": [
       "     SaleID        Country OrderMethod       Retailer                  Line  \\\n",
       "0  SaleID_1  United States         Fax  Outdoors Shop  Personal Accessories   \n",
       "1  SaleID_2  United States         Fax  Outdoors Shop      Sports Equipment   \n",
       "2  SaleID_3  United States         Fax  Outdoors Shop                   NaN   \n",
       "3  SaleID_4  United States         Fax  Outdoors Shop                   NaN   \n",
       "4  SaleID_5  United States         NaN  Outdoors Shop  Personal Accessories   \n",
       "\n",
       "           Type                    Product  YearOfSales  Quarter   Revenue  \\\n",
       "0  Cooking Gear  TrailChef Deluxe Cook Set       2018.0  Q1 2018  59728.66   \n",
       "1  Cooking Gear     TrailChef Double Flame       2018.0  Q1 2018  36050.32   \n",
       "2         Tents                  Star Dome       2018.0  Q1 2018  90040.48   \n",
       "3         Tents               Star Gazer 2       2018.0  Q1 2018       NaN   \n",
       "4     First Aid         Compact Relief Kit       2018.0  Q1 2018       NaN   \n",
       "\n",
       "   Quantity    Margin  \n",
       "0     491.0  0.357548  \n",
       "1     254.0  0.484274  \n",
       "2     149.0       NaN  \n",
       "3     305.0  0.292938  \n",
       "4     182.0  0.610710  "
      ]
     },
     "execution_count": 17,
     "metadata": {},
     "output_type": "execute_result"
    }
   ],
   "source": [
    "df.head()"
   ]
  },
  {
   "cell_type": "markdown",
   "metadata": {},
   "source": [
    "Use an attribute to obtain the index and column names of **df** in a single output field."
   ]
  },
  {
   "cell_type": "code",
   "execution_count": 18,
   "metadata": {},
   "outputs": [
    {
     "data": {
      "text/plain": [
       "[RangeIndex(start=0, stop=1276, step=1),\n",
       " Index(['SaleID', 'Country', 'OrderMethod', 'Retailer', 'Line', 'Type',\n",
       "        'Product', 'YearOfSales', 'Quarter', 'Revenue', 'Quantity', 'Margin'],\n",
       "       dtype='object')]"
      ]
     },
     "execution_count": 18,
     "metadata": {},
     "output_type": "execute_result"
    }
   ],
   "source": [
    "df.axes"
   ]
  },
  {
   "cell_type": "markdown",
   "metadata": {},
   "source": [
    "Think of **sales_products_data**. Check the information along its axes as well. \n",
    "<br/> Compare the output to the one from the previous code cell - are the index and column names different?"
   ]
  },
  {
   "cell_type": "code",
   "execution_count": 19,
   "metadata": {},
   "outputs": [
    {
     "data": {
      "text/plain": [
       "[RangeIndex(start=0, stop=1276, step=1),\n",
       " Index(['SaleID', 'Country', 'OrderMethod', 'Retailer', 'Line', 'Type',\n",
       "        'Product', 'YearOfSales', 'Quarter', 'Revenue', 'Quantity', 'Margin'],\n",
       "       dtype='object')]"
      ]
     },
     "execution_count": 19,
     "metadata": {},
     "output_type": "execute_result"
    }
   ],
   "source": [
    "sales_products_data.axes"
   ]
  },
  {
   "cell_type": "markdown",
   "metadata": {},
   "source": [
    "Use Python indexing on the code from the previous cell as an alternative way  to obtain the index and column names of **sales_products_data** as separate output.\n",
    "<br/><br/> *Hint: You may want to open parentheses before applying the required indexing syntax!*"
   ]
  },
  {
   "cell_type": "code",
   "execution_count": 20,
   "metadata": {},
   "outputs": [
    {
     "data": {
      "text/plain": [
       "RangeIndex(start=0, stop=1276, step=1)"
      ]
     },
     "execution_count": 20,
     "metadata": {},
     "output_type": "execute_result"
    }
   ],
   "source": [
    "(sales_products_data.axes)[0]"
   ]
  },
  {
   "cell_type": "code",
   "execution_count": 21,
   "metadata": {},
   "outputs": [
    {
     "data": {
      "text/plain": [
       "Index(['SaleID', 'Country', 'OrderMethod', 'Retailer', 'Line', 'Type',\n",
       "       'Product', 'YearOfSales', 'Quarter', 'Revenue', 'Quantity', 'Margin'],\n",
       "      dtype='object')"
      ]
     },
     "execution_count": 21,
     "metadata": {},
     "output_type": "execute_result"
    }
   ],
   "source": [
    "(sales_products_data.axes)[1]"
   ]
  },
  {
   "cell_type": "markdown",
   "metadata": {},
   "source": [
    "Use an attribute to obtain metadata about the types of data stored in the different columns of the **sales_products_data** DataFrame.\n",
    "<br><br> *Hint: If you've worked correctly, the obtained output will inform you that just 4 columns are containing numeric values.*"
   ]
  },
  {
   "cell_type": "code",
   "execution_count": 22,
   "metadata": {},
   "outputs": [
    {
     "data": {
      "text/plain": [
       "SaleID          object\n",
       "Country         object\n",
       "OrderMethod     object\n",
       "Retailer        object\n",
       "Line            object\n",
       "Type            object\n",
       "Product         object\n",
       "YearOfSales    float64\n",
       "Quarter         object\n",
       "Revenue        float64\n",
       "Quantity       float64\n",
       "Margin         float64\n",
       "dtype: object"
      ]
     },
     "execution_count": 22,
     "metadata": {},
     "output_type": "execute_result"
    }
   ],
   "source": [
    "sales_products_data.dtypes"
   ]
  },
  {
   "cell_type": "markdown",
   "metadata": {},
   "source": [
    "Obtain a Numpy array containing all values of the **sales_products_data**.\n",
    "<br/><br/> *Note: There are two ways to achieve this - one would be to use an attribute, while the other - use a method! Try both, but keep in mind that pandas developers advise us to stick to using the method.*"
   ]
  },
  {
   "cell_type": "code",
   "execution_count": 23,
   "metadata": {},
   "outputs": [
    {
     "data": {
      "text/plain": [
       "array([['SaleID_1', 'United States', 'Fax', ..., 59728.66, 491.0,\n",
       "        0.35754797],\n",
       "       ['SaleID_2', 'United States', 'Fax', ..., 36050.32, 254.0,\n",
       "        0.4842745],\n",
       "       ['SaleID_3', 'United States', 'Fax', ..., 90040.48, 149.0, nan],\n",
       "       ...,\n",
       "       ['SaleID_1274', 'Spain', 'Sales visit', ..., 12306.48, 238.0,\n",
       "        0.56842037],\n",
       "       ['SaleID_1275', 'Spain', 'Sales visit', ..., 56499.0, 1472.0,\n",
       "        0.49066667],\n",
       "       ['SaleID_1276', 'Spain', 'Sales visit', ..., 89427.0, 1178.0,\n",
       "        0.38689474]], dtype=object)"
      ]
     },
     "execution_count": 23,
     "metadata": {},
     "output_type": "execute_result"
    }
   ],
   "source": [
    "sales_products_data.values"
   ]
  },
  {
   "cell_type": "code",
   "execution_count": 24,
   "metadata": {},
   "outputs": [
    {
     "data": {
      "text/plain": [
       "array([['SaleID_1', 'United States', 'Fax', ..., 59728.66, 491.0,\n",
       "        0.35754797],\n",
       "       ['SaleID_2', 'United States', 'Fax', ..., 36050.32, 254.0,\n",
       "        0.4842745],\n",
       "       ['SaleID_3', 'United States', 'Fax', ..., 90040.48, 149.0, nan],\n",
       "       ...,\n",
       "       ['SaleID_1274', 'Spain', 'Sales visit', ..., 12306.48, 238.0,\n",
       "        0.56842037],\n",
       "       ['SaleID_1275', 'Spain', 'Sales visit', ..., 56499.0, 1472.0,\n",
       "        0.49066667],\n",
       "       ['SaleID_1276', 'Spain', 'Sales visit', ..., 89427.0, 1178.0,\n",
       "        0.38689474]], dtype=object)"
      ]
     },
     "execution_count": 24,
     "metadata": {},
     "output_type": "execute_result"
    }
   ],
   "source": [
    "sales_products_data.to_numpy()"
   ]
  },
  {
   "cell_type": "markdown",
   "metadata": {},
   "source": [
    "Verify that the obtained objects are NumPy arrays with the help of the \"Type\" function."
   ]
  },
  {
   "cell_type": "code",
   "execution_count": 25,
   "metadata": {},
   "outputs": [
    {
     "data": {
      "text/plain": [
       "numpy.ndarray"
      ]
     },
     "execution_count": 25,
     "metadata": {},
     "output_type": "execute_result"
    }
   ],
   "source": [
    "type(sales_products_data.values)"
   ]
  },
  {
   "cell_type": "code",
   "execution_count": 26,
   "metadata": {},
   "outputs": [
    {
     "data": {
      "text/plain": [
       "numpy.ndarray"
      ]
     },
     "execution_count": 26,
     "metadata": {},
     "output_type": "execute_result"
    }
   ],
   "source": [
    "type(sales_products_data.to_numpy())"
   ]
  },
  {
   "cell_type": "markdown",
   "metadata": {},
   "source": [
    "Obtain the number of rows and columns in the **sales_products_data** DataFrame."
   ]
  },
  {
   "cell_type": "code",
   "execution_count": 27,
   "metadata": {},
   "outputs": [
    {
     "data": {
      "text/plain": [
       "(1276, 12)"
      ]
     },
     "execution_count": 27,
     "metadata": {},
     "output_type": "execute_result"
    }
   ],
   "source": [
    "sales_products_data.shape "
   ]
  },
  {
   "cell_type": "markdown",
   "metadata": {},
   "source": [
    "Check if the output obtained in the previous cell is a tuple."
   ]
  },
  {
   "cell_type": "code",
   "execution_count": 28,
   "metadata": {},
   "outputs": [
    {
     "data": {
      "text/plain": [
       "tuple"
      ]
     },
     "execution_count": 28,
     "metadata": {},
     "output_type": "execute_result"
    }
   ],
   "source": [
    "type(sales_products_data.shape)"
   ]
  },
  {
   "cell_type": "markdown",
   "metadata": {},
   "source": [
    "## Data Selection in pandas DataFrames"
   ]
  },
  {
   "cell_type": "markdown",
   "metadata": {},
   "source": [
    "Import the *Sales-products.csv* dataset into a DataFrame object called **sales_products_data**."
   ]
  },
  {
   "cell_type": "markdown",
   "metadata": {},
   "source": [
    "*Note: Please use the default index provided for this DataFrame throughout this exercise.*"
   ]
  },
  {
   "cell_type": "code",
   "execution_count": 29,
   "metadata": {},
   "outputs": [
    {
     "data": {
      "text/html": [
       "<div>\n",
       "<style scoped>\n",
       "    .dataframe tbody tr th:only-of-type {\n",
       "        vertical-align: middle;\n",
       "    }\n",
       "\n",
       "    .dataframe tbody tr th {\n",
       "        vertical-align: top;\n",
       "    }\n",
       "\n",
       "    .dataframe thead th {\n",
       "        text-align: right;\n",
       "    }\n",
       "</style>\n",
       "<table border=\"1\" class=\"dataframe\">\n",
       "  <thead>\n",
       "    <tr style=\"text-align: right;\">\n",
       "      <th></th>\n",
       "      <th>SaleID</th>\n",
       "      <th>RetailerCountry</th>\n",
       "      <th>OrderMethod</th>\n",
       "      <th>RetailerType</th>\n",
       "      <th>ProductLine</th>\n",
       "      <th>ProductType</th>\n",
       "      <th>Product</th>\n",
       "      <th>Year</th>\n",
       "      <th>Quarter</th>\n",
       "      <th>Revenue</th>\n",
       "      <th>Quantity</th>\n",
       "      <th>GrossMargin</th>\n",
       "    </tr>\n",
       "  </thead>\n",
       "  <tbody>\n",
       "    <tr>\n",
       "      <th>0</th>\n",
       "      <td>SaleID_1</td>\n",
       "      <td>United States</td>\n",
       "      <td>Fax</td>\n",
       "      <td>Outdoors Shop</td>\n",
       "      <td>Personal Accessories</td>\n",
       "      <td>Cooking Gear</td>\n",
       "      <td>TrailChef Deluxe Cook Set</td>\n",
       "      <td>2018.0</td>\n",
       "      <td>Q1 2018</td>\n",
       "      <td>59728.66</td>\n",
       "      <td>491.0</td>\n",
       "      <td>0.357548</td>\n",
       "    </tr>\n",
       "    <tr>\n",
       "      <th>1</th>\n",
       "      <td>SaleID_2</td>\n",
       "      <td>United States</td>\n",
       "      <td>Fax</td>\n",
       "      <td>Outdoors Shop</td>\n",
       "      <td>Sports Equipment</td>\n",
       "      <td>Cooking Gear</td>\n",
       "      <td>TrailChef Double Flame</td>\n",
       "      <td>2018.0</td>\n",
       "      <td>Q1 2018</td>\n",
       "      <td>36050.32</td>\n",
       "      <td>254.0</td>\n",
       "      <td>0.484274</td>\n",
       "    </tr>\n",
       "    <tr>\n",
       "      <th>2</th>\n",
       "      <td>SaleID_3</td>\n",
       "      <td>United States</td>\n",
       "      <td>Fax</td>\n",
       "      <td>Outdoors Shop</td>\n",
       "      <td>NaN</td>\n",
       "      <td>Tents</td>\n",
       "      <td>Star Dome</td>\n",
       "      <td>2018.0</td>\n",
       "      <td>Q1 2018</td>\n",
       "      <td>90040.48</td>\n",
       "      <td>149.0</td>\n",
       "      <td>NaN</td>\n",
       "    </tr>\n",
       "    <tr>\n",
       "      <th>3</th>\n",
       "      <td>SaleID_4</td>\n",
       "      <td>United States</td>\n",
       "      <td>Fax</td>\n",
       "      <td>Outdoors Shop</td>\n",
       "      <td>NaN</td>\n",
       "      <td>Tents</td>\n",
       "      <td>Star Gazer 2</td>\n",
       "      <td>2018.0</td>\n",
       "      <td>Q1 2018</td>\n",
       "      <td>NaN</td>\n",
       "      <td>305.0</td>\n",
       "      <td>0.292938</td>\n",
       "    </tr>\n",
       "    <tr>\n",
       "      <th>4</th>\n",
       "      <td>SaleID_5</td>\n",
       "      <td>United States</td>\n",
       "      <td>NaN</td>\n",
       "      <td>Outdoors Shop</td>\n",
       "      <td>Personal Accessories</td>\n",
       "      <td>First Aid</td>\n",
       "      <td>Compact Relief Kit</td>\n",
       "      <td>2018.0</td>\n",
       "      <td>Q1 2018</td>\n",
       "      <td>NaN</td>\n",
       "      <td>182.0</td>\n",
       "      <td>0.610710</td>\n",
       "    </tr>\n",
       "  </tbody>\n",
       "</table>\n",
       "</div>"
      ],
      "text/plain": [
       "     SaleID RetailerCountry OrderMethod   RetailerType           ProductLine  \\\n",
       "0  SaleID_1   United States         Fax  Outdoors Shop  Personal Accessories   \n",
       "1  SaleID_2   United States         Fax  Outdoors Shop      Sports Equipment   \n",
       "2  SaleID_3   United States         Fax  Outdoors Shop                   NaN   \n",
       "3  SaleID_4   United States         Fax  Outdoors Shop                   NaN   \n",
       "4  SaleID_5   United States         NaN  Outdoors Shop  Personal Accessories   \n",
       "\n",
       "    ProductType                    Product    Year  Quarter   Revenue  \\\n",
       "0  Cooking Gear  TrailChef Deluxe Cook Set  2018.0  Q1 2018  59728.66   \n",
       "1  Cooking Gear     TrailChef Double Flame  2018.0  Q1 2018  36050.32   \n",
       "2         Tents                  Star Dome  2018.0  Q1 2018  90040.48   \n",
       "3         Tents               Star Gazer 2  2018.0  Q1 2018       NaN   \n",
       "4     First Aid         Compact Relief Kit  2018.0  Q1 2018       NaN   \n",
       "\n",
       "   Quantity  GrossMargin  \n",
       "0     491.0     0.357548  \n",
       "1     254.0     0.484274  \n",
       "2     149.0          NaN  \n",
       "3     305.0     0.292938  \n",
       "4     182.0     0.610710  "
      ]
     },
     "execution_count": 29,
     "metadata": {},
     "output_type": "execute_result"
    }
   ],
   "source": [
    "data = pd.read_csv('Sales-products.csv')\n",
    "sales_products_data = data.copy()\n",
    "sales_products_data.head()"
   ]
  },
  {
   "cell_type": "markdown",
   "metadata": {},
   "source": [
    "Although we are not advised to, retrieve the data from the 'Product' column from the **sales_products_data** column *without* using the indexing operator **[ ]**."
   ]
  },
  {
   "cell_type": "code",
   "execution_count": 30,
   "metadata": {},
   "outputs": [
    {
     "data": {
      "text/plain": [
       "0       TrailChef Deluxe Cook Set\n",
       "1          TrailChef Double Flame\n",
       "2                       Star Dome\n",
       "3                    Star Gazer 2\n",
       "4              Compact Relief Kit\n",
       "                  ...            \n",
       "1271                Husky Rope 60\n",
       "1272        Firefly Climbing Lamp\n",
       "1273              Firefly Charger\n",
       "1274                  Granite Axe\n",
       "1275              Granite Extreme\n",
       "Name: Product, Length: 1276, dtype: object"
      ]
     },
     "execution_count": 30,
     "metadata": {},
     "output_type": "execute_result"
    }
   ],
   "source": [
    "sales_products_data.Product"
   ]
  },
  {
   "cell_type": "markdown",
   "metadata": {},
   "source": [
    "Retrieve the data from the 'Product' column from the **sales_products_data** column by using the indexing operator **[ ]**."
   ]
  },
  {
   "cell_type": "code",
   "execution_count": 31,
   "metadata": {},
   "outputs": [
    {
     "data": {
      "text/plain": [
       "0       TrailChef Deluxe Cook Set\n",
       "1          TrailChef Double Flame\n",
       "2                       Star Dome\n",
       "3                    Star Gazer 2\n",
       "4              Compact Relief Kit\n",
       "                  ...            \n",
       "1271                Husky Rope 60\n",
       "1272        Firefly Climbing Lamp\n",
       "1273              Firefly Charger\n",
       "1274                  Granite Axe\n",
       "1275              Granite Extreme\n",
       "Name: Product, Length: 1276, dtype: object"
      ]
     },
     "execution_count": 31,
     "metadata": {},
     "output_type": "execute_result"
    }
   ],
   "source": [
    "sales_products_data['Product']"
   ]
  },
  {
   "cell_type": "markdown",
   "metadata": {},
   "source": [
    "Apply the **.tail()** method to the code you used in your previous response to obtain the last five rows from the \"Product\" column."
   ]
  },
  {
   "cell_type": "code",
   "execution_count": 32,
   "metadata": {},
   "outputs": [
    {
     "data": {
      "text/plain": [
       "1271            Husky Rope 60\n",
       "1272    Firefly Climbing Lamp\n",
       "1273          Firefly Charger\n",
       "1274              Granite Axe\n",
       "1275          Granite Extreme\n",
       "Name: Product, dtype: object"
      ]
     },
     "execution_count": 32,
     "metadata": {},
     "output_type": "execute_result"
    }
   ],
   "source": [
    "sales_products_data['Product'].tail()"
   ]
  },
  {
   "cell_type": "markdown",
   "metadata": {},
   "source": [
    "Although we are not advised to, retrieve the data from the 'Quarter' column from the **sales_products_data** column *without* using the indexing operator **.[ ]**."
   ]
  },
  {
   "cell_type": "code",
   "execution_count": 33,
   "metadata": {},
   "outputs": [
    {
     "data": {
      "text/plain": [
       "0       Q1 2018\n",
       "1       Q1 2018\n",
       "2       Q1 2018\n",
       "3       Q1 2018\n",
       "4       Q1 2018\n",
       "         ...   \n",
       "1271    Q3 2020\n",
       "1272    Q3 2020\n",
       "1273    Q3 2020\n",
       "1274    Q3 2020\n",
       "1275    Q3 2020\n",
       "Name: Quarter, Length: 1276, dtype: object"
      ]
     },
     "execution_count": 33,
     "metadata": {},
     "output_type": "execute_result"
    }
   ],
   "source": [
    "sales_products_data.Quarter"
   ]
  },
  {
   "cell_type": "markdown",
   "metadata": {},
   "source": [
    "Retrieve the data from the 'Quarter' column from the **sales_products_data** column by using the indexing operator **[ ]**."
   ]
  },
  {
   "cell_type": "code",
   "execution_count": 34,
   "metadata": {},
   "outputs": [
    {
     "data": {
      "text/plain": [
       "0       Q1 2018\n",
       "1       Q1 2018\n",
       "2       Q1 2018\n",
       "3       Q1 2018\n",
       "4       Q1 2018\n",
       "         ...   \n",
       "1271    Q3 2020\n",
       "1272    Q3 2020\n",
       "1273    Q3 2020\n",
       "1274    Q3 2020\n",
       "1275    Q3 2020\n",
       "Name: Quarter, Length: 1276, dtype: object"
      ]
     },
     "execution_count": 34,
     "metadata": {},
     "output_type": "execute_result"
    }
   ],
   "source": [
    "sales_products_data['Quarter']"
   ]
  },
  {
   "cell_type": "markdown",
   "metadata": {},
   "source": [
    "Use any of the 4 previous examples to verify that the data obtained from a column of a DataFrame is actually stored in a Series object:"
   ]
  },
  {
   "cell_type": "code",
   "execution_count": 35,
   "metadata": {},
   "outputs": [
    {
     "data": {
      "text/plain": [
       "pandas.core.series.Series"
      ]
     },
     "execution_count": 35,
     "metadata": {},
     "output_type": "execute_result"
    }
   ],
   "source": [
    "# example: \n",
    "type(sales_products_data['Quarter'])"
   ]
  },
  {
   "cell_type": "markdown",
   "metadata": {},
   "source": [
    "<br> Use a well-know attribute and attribute chaining to obtain information about the type of data stored in the \"Revenue\" column."
   ]
  },
  {
   "cell_type": "code",
   "execution_count": 36,
   "metadata": {
    "scrolled": true
   },
   "outputs": [
    {
     "data": {
      "text/plain": [
       "dtype('float64')"
      ]
     },
     "execution_count": 36,
     "metadata": {},
     "output_type": "execute_result"
    }
   ],
   "source": [
    "sales_products_data[\"Revenue\"].dtypes"
   ]
  },
  {
   "cell_type": "markdown",
   "metadata": {},
   "source": [
    "**Selecting multiple columns from a DF**"
   ]
  },
  {
   "cell_type": "markdown",
   "metadata": {},
   "source": [
    "Use a list with column names within the indexing operator ([ ]) to extract data from the 'Revenue' and 'Quantity' columns from the **sales_products_data** DataFrame. Use the **.head()** method to only display the top five rows of the selection.  <br>\n",
    "Solve the problem by using a single line of code."
   ]
  },
  {
   "cell_type": "code",
   "execution_count": 37,
   "metadata": {},
   "outputs": [
    {
     "data": {
      "text/html": [
       "<div>\n",
       "<style scoped>\n",
       "    .dataframe tbody tr th:only-of-type {\n",
       "        vertical-align: middle;\n",
       "    }\n",
       "\n",
       "    .dataframe tbody tr th {\n",
       "        vertical-align: top;\n",
       "    }\n",
       "\n",
       "    .dataframe thead th {\n",
       "        text-align: right;\n",
       "    }\n",
       "</style>\n",
       "<table border=\"1\" class=\"dataframe\">\n",
       "  <thead>\n",
       "    <tr style=\"text-align: right;\">\n",
       "      <th></th>\n",
       "      <th>Revenue</th>\n",
       "      <th>Quantity</th>\n",
       "    </tr>\n",
       "  </thead>\n",
       "  <tbody>\n",
       "    <tr>\n",
       "      <th>0</th>\n",
       "      <td>59728.66</td>\n",
       "      <td>491.0</td>\n",
       "    </tr>\n",
       "    <tr>\n",
       "      <th>1</th>\n",
       "      <td>36050.32</td>\n",
       "      <td>254.0</td>\n",
       "    </tr>\n",
       "    <tr>\n",
       "      <th>2</th>\n",
       "      <td>90040.48</td>\n",
       "      <td>149.0</td>\n",
       "    </tr>\n",
       "    <tr>\n",
       "      <th>3</th>\n",
       "      <td>NaN</td>\n",
       "      <td>305.0</td>\n",
       "    </tr>\n",
       "    <tr>\n",
       "      <th>4</th>\n",
       "      <td>NaN</td>\n",
       "      <td>182.0</td>\n",
       "    </tr>\n",
       "  </tbody>\n",
       "</table>\n",
       "</div>"
      ],
      "text/plain": [
       "    Revenue  Quantity\n",
       "0  59728.66     491.0\n",
       "1  36050.32     254.0\n",
       "2  90040.48     149.0\n",
       "3       NaN     305.0\n",
       "4       NaN     182.0"
      ]
     },
     "execution_count": 37,
     "metadata": {},
     "output_type": "execute_result"
    }
   ],
   "source": [
    "sales_products_data[['Revenue', 'Quantity']].head()"
   ]
  },
  {
   "cell_type": "markdown",
   "metadata": {},
   "source": [
    "Can you think of a more elegant way to obtain the same result? This option is more often encountered in professional work since it improves the legibility of your code."
   ]
  },
  {
   "cell_type": "code",
   "execution_count": 38,
   "metadata": {},
   "outputs": [
    {
     "data": {
      "text/html": [
       "<div>\n",
       "<style scoped>\n",
       "    .dataframe tbody tr th:only-of-type {\n",
       "        vertical-align: middle;\n",
       "    }\n",
       "\n",
       "    .dataframe tbody tr th {\n",
       "        vertical-align: top;\n",
       "    }\n",
       "\n",
       "    .dataframe thead th {\n",
       "        text-align: right;\n",
       "    }\n",
       "</style>\n",
       "<table border=\"1\" class=\"dataframe\">\n",
       "  <thead>\n",
       "    <tr style=\"text-align: right;\">\n",
       "      <th></th>\n",
       "      <th>Revenue</th>\n",
       "      <th>Quantity</th>\n",
       "    </tr>\n",
       "  </thead>\n",
       "  <tbody>\n",
       "    <tr>\n",
       "      <th>0</th>\n",
       "      <td>59728.66</td>\n",
       "      <td>491.0</td>\n",
       "    </tr>\n",
       "    <tr>\n",
       "      <th>1</th>\n",
       "      <td>36050.32</td>\n",
       "      <td>254.0</td>\n",
       "    </tr>\n",
       "    <tr>\n",
       "      <th>2</th>\n",
       "      <td>90040.48</td>\n",
       "      <td>149.0</td>\n",
       "    </tr>\n",
       "    <tr>\n",
       "      <th>3</th>\n",
       "      <td>NaN</td>\n",
       "      <td>305.0</td>\n",
       "    </tr>\n",
       "    <tr>\n",
       "      <th>4</th>\n",
       "      <td>NaN</td>\n",
       "      <td>182.0</td>\n",
       "    </tr>\n",
       "  </tbody>\n",
       "</table>\n",
       "</div>"
      ],
      "text/plain": [
       "    Revenue  Quantity\n",
       "0  59728.66     491.0\n",
       "1  36050.32     254.0\n",
       "2  90040.48     149.0\n",
       "3       NaN     305.0\n",
       "4       NaN     182.0"
      ]
     },
     "execution_count": 38,
     "metadata": {},
     "output_type": "execute_result"
    }
   ],
   "source": [
    "column_names = ['Revenue', 'Quantity']\n",
    "sales_products_data[column_names].head()"
   ]
  },
  {
   "cell_type": "markdown",
   "metadata": {},
   "source": [
    "## Data Selection - Indexing Data with .iloc[]"
   ]
  },
  {
   "cell_type": "code",
   "execution_count": 39,
   "metadata": {},
   "outputs": [],
   "source": [
    "import pandas as pd"
   ]
  },
  {
   "cell_type": "markdown",
   "metadata": {},
   "source": [
    "Import the *Sales-products.csv* dataset into a DataFrame object called **sales_products_data**."
   ]
  },
  {
   "cell_type": "markdown",
   "metadata": {},
   "source": [
    "*Note: Please use the default index provided for this DataFrame throughout this exercise.*"
   ]
  },
  {
   "cell_type": "code",
   "execution_count": 40,
   "metadata": {
    "scrolled": true
   },
   "outputs": [
    {
     "data": {
      "text/html": [
       "<div>\n",
       "<style scoped>\n",
       "    .dataframe tbody tr th:only-of-type {\n",
       "        vertical-align: middle;\n",
       "    }\n",
       "\n",
       "    .dataframe tbody tr th {\n",
       "        vertical-align: top;\n",
       "    }\n",
       "\n",
       "    .dataframe thead th {\n",
       "        text-align: right;\n",
       "    }\n",
       "</style>\n",
       "<table border=\"1\" class=\"dataframe\">\n",
       "  <thead>\n",
       "    <tr style=\"text-align: right;\">\n",
       "      <th></th>\n",
       "      <th>SaleID</th>\n",
       "      <th>RetailerCountry</th>\n",
       "      <th>OrderMethod</th>\n",
       "      <th>RetailerType</th>\n",
       "      <th>ProductLine</th>\n",
       "      <th>ProductType</th>\n",
       "      <th>Product</th>\n",
       "      <th>Year</th>\n",
       "      <th>Quarter</th>\n",
       "      <th>Revenue</th>\n",
       "      <th>Quantity</th>\n",
       "      <th>GrossMargin</th>\n",
       "    </tr>\n",
       "  </thead>\n",
       "  <tbody>\n",
       "    <tr>\n",
       "      <th>0</th>\n",
       "      <td>SaleID_1</td>\n",
       "      <td>United States</td>\n",
       "      <td>Fax</td>\n",
       "      <td>Outdoors Shop</td>\n",
       "      <td>Personal Accessories</td>\n",
       "      <td>Cooking Gear</td>\n",
       "      <td>TrailChef Deluxe Cook Set</td>\n",
       "      <td>2018.0</td>\n",
       "      <td>Q1 2018</td>\n",
       "      <td>59728.66</td>\n",
       "      <td>491.0</td>\n",
       "      <td>0.357548</td>\n",
       "    </tr>\n",
       "    <tr>\n",
       "      <th>1</th>\n",
       "      <td>SaleID_2</td>\n",
       "      <td>United States</td>\n",
       "      <td>Fax</td>\n",
       "      <td>Outdoors Shop</td>\n",
       "      <td>Sports Equipment</td>\n",
       "      <td>Cooking Gear</td>\n",
       "      <td>TrailChef Double Flame</td>\n",
       "      <td>2018.0</td>\n",
       "      <td>Q1 2018</td>\n",
       "      <td>36050.32</td>\n",
       "      <td>254.0</td>\n",
       "      <td>0.484274</td>\n",
       "    </tr>\n",
       "    <tr>\n",
       "      <th>2</th>\n",
       "      <td>SaleID_3</td>\n",
       "      <td>United States</td>\n",
       "      <td>Fax</td>\n",
       "      <td>Outdoors Shop</td>\n",
       "      <td>NaN</td>\n",
       "      <td>Tents</td>\n",
       "      <td>Star Dome</td>\n",
       "      <td>2018.0</td>\n",
       "      <td>Q1 2018</td>\n",
       "      <td>90040.48</td>\n",
       "      <td>149.0</td>\n",
       "      <td>NaN</td>\n",
       "    </tr>\n",
       "    <tr>\n",
       "      <th>3</th>\n",
       "      <td>SaleID_4</td>\n",
       "      <td>United States</td>\n",
       "      <td>Fax</td>\n",
       "      <td>Outdoors Shop</td>\n",
       "      <td>NaN</td>\n",
       "      <td>Tents</td>\n",
       "      <td>Star Gazer 2</td>\n",
       "      <td>2018.0</td>\n",
       "      <td>Q1 2018</td>\n",
       "      <td>NaN</td>\n",
       "      <td>305.0</td>\n",
       "      <td>0.292938</td>\n",
       "    </tr>\n",
       "    <tr>\n",
       "      <th>4</th>\n",
       "      <td>SaleID_5</td>\n",
       "      <td>United States</td>\n",
       "      <td>NaN</td>\n",
       "      <td>Outdoors Shop</td>\n",
       "      <td>Personal Accessories</td>\n",
       "      <td>First Aid</td>\n",
       "      <td>Compact Relief Kit</td>\n",
       "      <td>2018.0</td>\n",
       "      <td>Q1 2018</td>\n",
       "      <td>NaN</td>\n",
       "      <td>182.0</td>\n",
       "      <td>0.610710</td>\n",
       "    </tr>\n",
       "  </tbody>\n",
       "</table>\n",
       "</div>"
      ],
      "text/plain": [
       "     SaleID RetailerCountry OrderMethod   RetailerType           ProductLine  \\\n",
       "0  SaleID_1   United States         Fax  Outdoors Shop  Personal Accessories   \n",
       "1  SaleID_2   United States         Fax  Outdoors Shop      Sports Equipment   \n",
       "2  SaleID_3   United States         Fax  Outdoors Shop                   NaN   \n",
       "3  SaleID_4   United States         Fax  Outdoors Shop                   NaN   \n",
       "4  SaleID_5   United States         NaN  Outdoors Shop  Personal Accessories   \n",
       "\n",
       "    ProductType                    Product    Year  Quarter   Revenue  \\\n",
       "0  Cooking Gear  TrailChef Deluxe Cook Set  2018.0  Q1 2018  59728.66   \n",
       "1  Cooking Gear     TrailChef Double Flame  2018.0  Q1 2018  36050.32   \n",
       "2         Tents                  Star Dome  2018.0  Q1 2018  90040.48   \n",
       "3         Tents               Star Gazer 2  2018.0  Q1 2018       NaN   \n",
       "4     First Aid         Compact Relief Kit  2018.0  Q1 2018       NaN   \n",
       "\n",
       "   Quantity  GrossMargin  \n",
       "0     491.0     0.357548  \n",
       "1     254.0     0.484274  \n",
       "2     149.0          NaN  \n",
       "3     305.0     0.292938  \n",
       "4     182.0     0.610710  "
      ]
     },
     "execution_count": 40,
     "metadata": {},
     "output_type": "execute_result"
    }
   ],
   "source": [
    "data = pd.read_csv('Sales-products.csv')\n",
    "sales_products_data = data.copy()\n",
    "sales_products_data.head()"
   ]
  },
  {
   "cell_type": "markdown",
   "metadata": {},
   "source": [
    "Select the data from the first row from the **sales_products_data** DataFrame (don't forget that in programming we start counting from 0!)."
   ]
  },
  {
   "cell_type": "code",
   "execution_count": 41,
   "metadata": {},
   "outputs": [
    {
     "data": {
      "text/plain": [
       "SaleID                              SaleID_1\n",
       "RetailerCountry                United States\n",
       "OrderMethod                              Fax\n",
       "RetailerType                   Outdoors Shop\n",
       "ProductLine             Personal Accessories\n",
       "ProductType                     Cooking Gear\n",
       "Product            TrailChef Deluxe Cook Set\n",
       "Year                                    2018\n",
       "Quarter                              Q1 2018\n",
       "Revenue                              59728.7\n",
       "Quantity                                 491\n",
       "GrossMargin                         0.357548\n",
       "Name: 0, dtype: object"
      ]
     },
     "execution_count": 41,
     "metadata": {},
     "output_type": "execute_result"
    }
   ],
   "source": [
    "sales_products_data.iloc[0, :]"
   ]
  },
  {
   "cell_type": "markdown",
   "metadata": {},
   "source": [
    "Select the data from the penultimate row from the **sales_products_data** DataFrame. "
   ]
  },
  {
   "cell_type": "code",
   "execution_count": 42,
   "metadata": {
    "scrolled": true
   },
   "outputs": [
    {
     "data": {
      "text/plain": [
       "SaleID                      SaleID_1275\n",
       "RetailerCountry                   Spain\n",
       "OrderMethod                 Sales visit\n",
       "RetailerType              Outdoors Shop\n",
       "ProductLine        Personal Accessories\n",
       "ProductType                       Tools\n",
       "Product                     Granite Axe\n",
       "Year                               2020\n",
       "Quarter                         Q3 2020\n",
       "Revenue                           56499\n",
       "Quantity                           1472\n",
       "GrossMargin                    0.490667\n",
       "Name: 1274, dtype: object"
      ]
     },
     "execution_count": 42,
     "metadata": {},
     "output_type": "execute_result"
    }
   ],
   "source": [
    "sales_products_data.iloc[-2, :]"
   ]
  },
  {
   "cell_type": "markdown",
   "metadata": {},
   "source": [
    "Select the value from the second row and sixth column of **sales_products_data** by using the **.iloc[]** method.\n",
    "<br><br> *Hint: If you've worked correctly, you should obtain 'Cooking Gear'.*"
   ]
  },
  {
   "cell_type": "code",
   "execution_count": 43,
   "metadata": {},
   "outputs": [
    {
     "data": {
      "text/plain": [
       "'Cooking Gear'"
      ]
     },
     "execution_count": 43,
     "metadata": {},
     "output_type": "execute_result"
    }
   ],
   "source": [
    "sales_products_data.iloc[1,5]"
   ]
  },
  {
   "cell_type": "markdown",
   "metadata": {},
   "source": [
    "Although we are not advised to, can you think of an alternative syntax that you can use to obtain the same information? \n",
    "<br> *Hint: You still need to use the **.iloc[]** accessor!*\n",
    "<br><br> *Note: We are asking you to try this syntax out to make sure you are in control of obtaining the desired portion of the data regardless of the object it has been contained into. The syntax and tools are similar, while their utilization may differ.*"
   ]
  },
  {
   "cell_type": "code",
   "execution_count": 44,
   "metadata": {},
   "outputs": [
    {
     "data": {
      "text/plain": [
       "'Cooking Gear'"
      ]
     },
     "execution_count": 44,
     "metadata": {},
     "output_type": "execute_result"
    }
   ],
   "source": [
    "sales_products_data.iloc[1][5]"
   ]
  },
  {
   "cell_type": "markdown",
   "metadata": {},
   "source": [
    "Use the **.shape** attribute to discover the largest numbers that you can use as arguments of the **.iloc[]** accessor."
   ]
  },
  {
   "cell_type": "code",
   "execution_count": 45,
   "metadata": {},
   "outputs": [
    {
     "data": {
      "text/plain": [
       "(1276, 12)"
      ]
     },
     "execution_count": 45,
     "metadata": {},
     "output_type": "execute_result"
    }
   ],
   "source": [
    "sales_products_data.shape"
   ]
  },
  {
   "cell_type": "markdown",
   "metadata": {},
   "source": [
    "Considering the values you just obtained, use the **.iloc[]** accessor find out the value that has been stored in the last row and farthest-to-the-right column."
   ]
  },
  {
   "cell_type": "code",
   "execution_count": 46,
   "metadata": {},
   "outputs": [
    {
     "data": {
      "text/plain": [
       "0.38689474"
      ]
     },
     "execution_count": 46,
     "metadata": {},
     "output_type": "execute_result"
    }
   ],
   "source": [
    "sales_products_data.iloc[1275,-1]"
   ]
  },
  {
   "cell_type": "markdown",
   "metadata": {},
   "source": [
    "Verify that you've obtained the correct value by applying the **.tail()** method to the **sales_products_data** DataFrame.\n",
    "<br> Observe the value that is farthest to the right on the last row."
   ]
  },
  {
   "cell_type": "code",
   "execution_count": 47,
   "metadata": {
    "scrolled": true
   },
   "outputs": [
    {
     "data": {
      "text/html": [
       "<div>\n",
       "<style scoped>\n",
       "    .dataframe tbody tr th:only-of-type {\n",
       "        vertical-align: middle;\n",
       "    }\n",
       "\n",
       "    .dataframe tbody tr th {\n",
       "        vertical-align: top;\n",
       "    }\n",
       "\n",
       "    .dataframe thead th {\n",
       "        text-align: right;\n",
       "    }\n",
       "</style>\n",
       "<table border=\"1\" class=\"dataframe\">\n",
       "  <thead>\n",
       "    <tr style=\"text-align: right;\">\n",
       "      <th></th>\n",
       "      <th>SaleID</th>\n",
       "      <th>RetailerCountry</th>\n",
       "      <th>OrderMethod</th>\n",
       "      <th>RetailerType</th>\n",
       "      <th>ProductLine</th>\n",
       "      <th>ProductType</th>\n",
       "      <th>Product</th>\n",
       "      <th>Year</th>\n",
       "      <th>Quarter</th>\n",
       "      <th>Revenue</th>\n",
       "      <th>Quantity</th>\n",
       "      <th>GrossMargin</th>\n",
       "    </tr>\n",
       "  </thead>\n",
       "  <tbody>\n",
       "    <tr>\n",
       "      <th>1271</th>\n",
       "      <td>SaleID_1272</td>\n",
       "      <td>Spain</td>\n",
       "      <td>Sales visit</td>\n",
       "      <td>Outdoors Shop</td>\n",
       "      <td>Personal Accessories</td>\n",
       "      <td>Rope</td>\n",
       "      <td>Husky Rope 60</td>\n",
       "      <td>2020.0</td>\n",
       "      <td>Q3 2020</td>\n",
       "      <td>30916.50</td>\n",
       "      <td>173.0</td>\n",
       "      <td>0.298114</td>\n",
       "    </tr>\n",
       "    <tr>\n",
       "      <th>1272</th>\n",
       "      <td>SaleID_1273</td>\n",
       "      <td>Spain</td>\n",
       "      <td>Sales visit</td>\n",
       "      <td>Outdoors Shop</td>\n",
       "      <td>Outdoor Protection</td>\n",
       "      <td>Climbing Accessories</td>\n",
       "      <td>Firefly Climbing Lamp</td>\n",
       "      <td>2020.0</td>\n",
       "      <td>Q3 2020</td>\n",
       "      <td>7536.29</td>\n",
       "      <td>193.0</td>\n",
       "      <td>0.445287</td>\n",
       "    </tr>\n",
       "    <tr>\n",
       "      <th>1273</th>\n",
       "      <td>SaleID_1274</td>\n",
       "      <td>Spain</td>\n",
       "      <td>Sales visit</td>\n",
       "      <td>Outdoors Shop</td>\n",
       "      <td>Personal Accessories</td>\n",
       "      <td>Climbing Accessories</td>\n",
       "      <td>Firefly Charger</td>\n",
       "      <td>2020.0</td>\n",
       "      <td>Q3 2020</td>\n",
       "      <td>12306.48</td>\n",
       "      <td>238.0</td>\n",
       "      <td>0.568420</td>\n",
       "    </tr>\n",
       "    <tr>\n",
       "      <th>1274</th>\n",
       "      <td>SaleID_1275</td>\n",
       "      <td>Spain</td>\n",
       "      <td>Sales visit</td>\n",
       "      <td>Outdoors Shop</td>\n",
       "      <td>Personal Accessories</td>\n",
       "      <td>Tools</td>\n",
       "      <td>Granite Axe</td>\n",
       "      <td>2020.0</td>\n",
       "      <td>Q3 2020</td>\n",
       "      <td>56499.00</td>\n",
       "      <td>1472.0</td>\n",
       "      <td>0.490667</td>\n",
       "    </tr>\n",
       "    <tr>\n",
       "      <th>1275</th>\n",
       "      <td>SaleID_1276</td>\n",
       "      <td>Spain</td>\n",
       "      <td>Sales visit</td>\n",
       "      <td>Outdoors Shop</td>\n",
       "      <td>Camping Equipment</td>\n",
       "      <td>Tools</td>\n",
       "      <td>Granite Extreme</td>\n",
       "      <td>2020.0</td>\n",
       "      <td>Q3 2020</td>\n",
       "      <td>89427.00</td>\n",
       "      <td>1178.0</td>\n",
       "      <td>0.386895</td>\n",
       "    </tr>\n",
       "  </tbody>\n",
       "</table>\n",
       "</div>"
      ],
      "text/plain": [
       "           SaleID RetailerCountry  OrderMethod   RetailerType  \\\n",
       "1271  SaleID_1272           Spain  Sales visit  Outdoors Shop   \n",
       "1272  SaleID_1273           Spain  Sales visit  Outdoors Shop   \n",
       "1273  SaleID_1274           Spain  Sales visit  Outdoors Shop   \n",
       "1274  SaleID_1275           Spain  Sales visit  Outdoors Shop   \n",
       "1275  SaleID_1276           Spain  Sales visit  Outdoors Shop   \n",
       "\n",
       "               ProductLine           ProductType                Product  \\\n",
       "1271  Personal Accessories                  Rope          Husky Rope 60   \n",
       "1272    Outdoor Protection  Climbing Accessories  Firefly Climbing Lamp   \n",
       "1273  Personal Accessories  Climbing Accessories        Firefly Charger   \n",
       "1274  Personal Accessories                 Tools            Granite Axe   \n",
       "1275     Camping Equipment                 Tools        Granite Extreme   \n",
       "\n",
       "        Year  Quarter   Revenue  Quantity  GrossMargin  \n",
       "1271  2020.0  Q3 2020  30916.50     173.0     0.298114  \n",
       "1272  2020.0  Q3 2020   7536.29     193.0     0.445287  \n",
       "1273  2020.0  Q3 2020  12306.48     238.0     0.568420  \n",
       "1274  2020.0  Q3 2020  56499.00    1472.0     0.490667  \n",
       "1275  2020.0  Q3 2020  89427.00    1178.0     0.386895  "
      ]
     },
     "execution_count": 47,
     "metadata": {},
     "output_type": "execute_result"
    }
   ],
   "source": [
    "sales_products_data.tail()"
   ]
  },
  {
   "cell_type": "markdown",
   "metadata": {},
   "source": [
    "Prove that **.iloc[]** can be applied to a Series object such as **sales_products_data['Product']** as well (e.g. by obtaining the first element from this column).\n",
    "<br><br> *Note: We are asking you to try this syntax out to make sure you are in control of obtaining the desired portion of the data regardless of the object it has been contained into. The syntax and tools are similar, while their utilization may differ.*\n",
    "<br> *This note applies to this and the next task.*"
   ]
  },
  {
   "cell_type": "code",
   "execution_count": 48,
   "metadata": {},
   "outputs": [
    {
     "data": {
      "text/plain": [
       "'TrailChef Deluxe Cook Set'"
      ]
     },
     "execution_count": 48,
     "metadata": {},
     "output_type": "execute_result"
    }
   ],
   "source": [
    "# Example: \n",
    "sales_products_data['Product'].iloc[0]"
   ]
  },
  {
   "cell_type": "markdown",
   "metadata": {},
   "source": [
    "Although we are not advised to, when working with a Series object, we can obtain the same output without using the **.iloc[]** indexer and using \"classical\" Python indexing. Can you try that out?"
   ]
  },
  {
   "cell_type": "code",
   "execution_count": 49,
   "metadata": {},
   "outputs": [
    {
     "data": {
      "text/plain": [
       "'TrailChef Deluxe Cook Set'"
      ]
     },
     "execution_count": 49,
     "metadata": {},
     "output_type": "execute_result"
    }
   ],
   "source": [
    "sales_products_data['Product'][0]"
   ]
  },
  {
   "cell_type": "markdown",
   "metadata": {},
   "source": [
    "## Data Selection - Indexing with .loc[]"
   ]
  },
  {
   "cell_type": "markdown",
   "metadata": {},
   "source": [
    "Import the *Sales-products.csv* dataset into a DataFrame object called **sales_products_data**."
   ]
  },
  {
   "cell_type": "markdown",
   "metadata": {},
   "source": [
    "*Note: Please use the 'SaleID' column as an index for this DataFrame throughout this exercise.*"
   ]
  },
  {
   "cell_type": "code",
   "execution_count": 50,
   "metadata": {
    "scrolled": false
   },
   "outputs": [
    {
     "data": {
      "text/html": [
       "<div>\n",
       "<style scoped>\n",
       "    .dataframe tbody tr th:only-of-type {\n",
       "        vertical-align: middle;\n",
       "    }\n",
       "\n",
       "    .dataframe tbody tr th {\n",
       "        vertical-align: top;\n",
       "    }\n",
       "\n",
       "    .dataframe thead th {\n",
       "        text-align: right;\n",
       "    }\n",
       "</style>\n",
       "<table border=\"1\" class=\"dataframe\">\n",
       "  <thead>\n",
       "    <tr style=\"text-align: right;\">\n",
       "      <th></th>\n",
       "      <th>RetailerCountry</th>\n",
       "      <th>OrderMethod</th>\n",
       "      <th>RetailerType</th>\n",
       "      <th>ProductLine</th>\n",
       "      <th>ProductType</th>\n",
       "      <th>Product</th>\n",
       "      <th>Year</th>\n",
       "      <th>Quarter</th>\n",
       "      <th>Revenue</th>\n",
       "      <th>Quantity</th>\n",
       "      <th>GrossMargin</th>\n",
       "    </tr>\n",
       "    <tr>\n",
       "      <th>SaleID</th>\n",
       "      <th></th>\n",
       "      <th></th>\n",
       "      <th></th>\n",
       "      <th></th>\n",
       "      <th></th>\n",
       "      <th></th>\n",
       "      <th></th>\n",
       "      <th></th>\n",
       "      <th></th>\n",
       "      <th></th>\n",
       "      <th></th>\n",
       "    </tr>\n",
       "  </thead>\n",
       "  <tbody>\n",
       "    <tr>\n",
       "      <th>SaleID_1</th>\n",
       "      <td>United States</td>\n",
       "      <td>Fax</td>\n",
       "      <td>Outdoors Shop</td>\n",
       "      <td>Personal Accessories</td>\n",
       "      <td>Cooking Gear</td>\n",
       "      <td>TrailChef Deluxe Cook Set</td>\n",
       "      <td>2018.0</td>\n",
       "      <td>Q1 2018</td>\n",
       "      <td>59728.66</td>\n",
       "      <td>491.0</td>\n",
       "      <td>0.357548</td>\n",
       "    </tr>\n",
       "    <tr>\n",
       "      <th>SaleID_2</th>\n",
       "      <td>United States</td>\n",
       "      <td>Fax</td>\n",
       "      <td>Outdoors Shop</td>\n",
       "      <td>Sports Equipment</td>\n",
       "      <td>Cooking Gear</td>\n",
       "      <td>TrailChef Double Flame</td>\n",
       "      <td>2018.0</td>\n",
       "      <td>Q1 2018</td>\n",
       "      <td>36050.32</td>\n",
       "      <td>254.0</td>\n",
       "      <td>0.484274</td>\n",
       "    </tr>\n",
       "    <tr>\n",
       "      <th>SaleID_3</th>\n",
       "      <td>United States</td>\n",
       "      <td>Fax</td>\n",
       "      <td>Outdoors Shop</td>\n",
       "      <td>NaN</td>\n",
       "      <td>Tents</td>\n",
       "      <td>Star Dome</td>\n",
       "      <td>2018.0</td>\n",
       "      <td>Q1 2018</td>\n",
       "      <td>90040.48</td>\n",
       "      <td>149.0</td>\n",
       "      <td>NaN</td>\n",
       "    </tr>\n",
       "    <tr>\n",
       "      <th>SaleID_4</th>\n",
       "      <td>United States</td>\n",
       "      <td>Fax</td>\n",
       "      <td>Outdoors Shop</td>\n",
       "      <td>NaN</td>\n",
       "      <td>Tents</td>\n",
       "      <td>Star Gazer 2</td>\n",
       "      <td>2018.0</td>\n",
       "      <td>Q1 2018</td>\n",
       "      <td>NaN</td>\n",
       "      <td>305.0</td>\n",
       "      <td>0.292938</td>\n",
       "    </tr>\n",
       "    <tr>\n",
       "      <th>SaleID_5</th>\n",
       "      <td>United States</td>\n",
       "      <td>NaN</td>\n",
       "      <td>Outdoors Shop</td>\n",
       "      <td>Personal Accessories</td>\n",
       "      <td>First Aid</td>\n",
       "      <td>Compact Relief Kit</td>\n",
       "      <td>2018.0</td>\n",
       "      <td>Q1 2018</td>\n",
       "      <td>NaN</td>\n",
       "      <td>182.0</td>\n",
       "      <td>0.610710</td>\n",
       "    </tr>\n",
       "  </tbody>\n",
       "</table>\n",
       "</div>"
      ],
      "text/plain": [
       "         RetailerCountry OrderMethod   RetailerType           ProductLine  \\\n",
       "SaleID                                                                      \n",
       "SaleID_1   United States         Fax  Outdoors Shop  Personal Accessories   \n",
       "SaleID_2   United States         Fax  Outdoors Shop      Sports Equipment   \n",
       "SaleID_3   United States         Fax  Outdoors Shop                   NaN   \n",
       "SaleID_4   United States         Fax  Outdoors Shop                   NaN   \n",
       "SaleID_5   United States         NaN  Outdoors Shop  Personal Accessories   \n",
       "\n",
       "           ProductType                    Product    Year  Quarter   Revenue  \\\n",
       "SaleID                                                                         \n",
       "SaleID_1  Cooking Gear  TrailChef Deluxe Cook Set  2018.0  Q1 2018  59728.66   \n",
       "SaleID_2  Cooking Gear     TrailChef Double Flame  2018.0  Q1 2018  36050.32   \n",
       "SaleID_3         Tents                  Star Dome  2018.0  Q1 2018  90040.48   \n",
       "SaleID_4         Tents               Star Gazer 2  2018.0  Q1 2018       NaN   \n",
       "SaleID_5     First Aid         Compact Relief Kit  2018.0  Q1 2018       NaN   \n",
       "\n",
       "          Quantity  GrossMargin  \n",
       "SaleID                           \n",
       "SaleID_1     491.0     0.357548  \n",
       "SaleID_2     254.0     0.484274  \n",
       "SaleID_3     149.0          NaN  \n",
       "SaleID_4     305.0     0.292938  \n",
       "SaleID_5     182.0     0.610710  "
      ]
     },
     "execution_count": 50,
     "metadata": {},
     "output_type": "execute_result"
    }
   ],
   "source": [
    "data = pd.read_csv('Sales-products.csv', index_col = 'SaleID')\n",
    "sales_products_data = data.copy()\n",
    "sales_products_data.head()"
   ]
  },
  {
   "cell_type": "markdown",
   "metadata": {},
   "source": [
    "Retrieve the values from the first row of the DataFrame by using the specified label-based index rather than the default numeric index."
   ]
  },
  {
   "cell_type": "code",
   "execution_count": 51,
   "metadata": {},
   "outputs": [
    {
     "data": {
      "text/plain": [
       "RetailerCountry                United States\n",
       "OrderMethod                              Fax\n",
       "RetailerType                   Outdoors Shop\n",
       "ProductLine             Personal Accessories\n",
       "ProductType                     Cooking Gear\n",
       "Product            TrailChef Deluxe Cook Set\n",
       "Year                                    2018\n",
       "Quarter                              Q1 2018\n",
       "Revenue                              59728.7\n",
       "Quantity                                 491\n",
       "GrossMargin                         0.357548\n",
       "Name: SaleID_1, dtype: object"
      ]
     },
     "execution_count": 51,
     "metadata": {},
     "output_type": "execute_result"
    }
   ],
   "source": [
    "sales_products_data.loc['SaleID_1', :]"
   ]
  },
  {
   "cell_type": "markdown",
   "metadata": {},
   "source": [
    "By using the specified label-based index again, retrieve the information stored in the 'GrossMargin' column for the 4th sale. "
   ]
  },
  {
   "cell_type": "code",
   "execution_count": 52,
   "metadata": {},
   "outputs": [
    {
     "data": {
      "text/plain": [
       "0.29293788"
      ]
     },
     "execution_count": 52,
     "metadata": {},
     "output_type": "execute_result"
    }
   ],
   "source": [
    "sales_products_data.loc['SaleID_4','GrossMargin']"
   ]
  },
  {
   "cell_type": "markdown",
   "metadata": {},
   "source": [
    "Obtain a DataFrame containg the values stored in all columns for sales numbered 15, 235, and 1147 by using the **.loc[]** indexer."
   ]
  },
  {
   "cell_type": "code",
   "execution_count": 53,
   "metadata": {},
   "outputs": [
    {
     "data": {
      "text/html": [
       "<div>\n",
       "<style scoped>\n",
       "    .dataframe tbody tr th:only-of-type {\n",
       "        vertical-align: middle;\n",
       "    }\n",
       "\n",
       "    .dataframe tbody tr th {\n",
       "        vertical-align: top;\n",
       "    }\n",
       "\n",
       "    .dataframe thead th {\n",
       "        text-align: right;\n",
       "    }\n",
       "</style>\n",
       "<table border=\"1\" class=\"dataframe\">\n",
       "  <thead>\n",
       "    <tr style=\"text-align: right;\">\n",
       "      <th></th>\n",
       "      <th>RetailerCountry</th>\n",
       "      <th>OrderMethod</th>\n",
       "      <th>RetailerType</th>\n",
       "      <th>ProductLine</th>\n",
       "      <th>ProductType</th>\n",
       "      <th>Product</th>\n",
       "      <th>Year</th>\n",
       "      <th>Quarter</th>\n",
       "      <th>Revenue</th>\n",
       "      <th>Quantity</th>\n",
       "      <th>GrossMargin</th>\n",
       "    </tr>\n",
       "    <tr>\n",
       "      <th>SaleID</th>\n",
       "      <th></th>\n",
       "      <th></th>\n",
       "      <th></th>\n",
       "      <th></th>\n",
       "      <th></th>\n",
       "      <th></th>\n",
       "      <th></th>\n",
       "      <th></th>\n",
       "      <th></th>\n",
       "      <th></th>\n",
       "      <th></th>\n",
       "    </tr>\n",
       "  </thead>\n",
       "  <tbody>\n",
       "    <tr>\n",
       "      <th>SaleID_15</th>\n",
       "      <td>United States</td>\n",
       "      <td>Web</td>\n",
       "      <td>Mall</td>\n",
       "      <td>Personal Accessories</td>\n",
       "      <td>Eyewear</td>\n",
       "      <td>Hawk Eye</td>\n",
       "      <td>2018.0</td>\n",
       "      <td>Q1 2018</td>\n",
       "      <td>29584.00</td>\n",
       "      <td>730.0</td>\n",
       "      <td>0.410535</td>\n",
       "    </tr>\n",
       "    <tr>\n",
       "      <th>SaleID_235</th>\n",
       "      <td>Mexico</td>\n",
       "      <td>Web</td>\n",
       "      <td>Mall</td>\n",
       "      <td>Personal Accessories</td>\n",
       "      <td>Eyewear</td>\n",
       "      <td>Fairway</td>\n",
       "      <td>2018.0</td>\n",
       "      <td>Q3 2018</td>\n",
       "      <td>12331.05</td>\n",
       "      <td>609.0</td>\n",
       "      <td>0.404658</td>\n",
       "    </tr>\n",
       "    <tr>\n",
       "      <th>SaleID_1147</th>\n",
       "      <td>Germany</td>\n",
       "      <td>Phone</td>\n",
       "      <td>Department Store</td>\n",
       "      <td>Camping Equipment</td>\n",
       "      <td>Lanterns</td>\n",
       "      <td>Firefly 4</td>\n",
       "      <td>2020.0</td>\n",
       "      <td>Q1 2020</td>\n",
       "      <td>7587.64</td>\n",
       "      <td>258.0</td>\n",
       "      <td>0.387587</td>\n",
       "    </tr>\n",
       "  </tbody>\n",
       "</table>\n",
       "</div>"
      ],
      "text/plain": [
       "            RetailerCountry OrderMethod      RetailerType  \\\n",
       "SaleID                                                      \n",
       "SaleID_15     United States         Web              Mall   \n",
       "SaleID_235           Mexico         Web              Mall   \n",
       "SaleID_1147         Germany       Phone  Department Store   \n",
       "\n",
       "                      ProductLine ProductType    Product    Year  Quarter  \\\n",
       "SaleID                                                                      \n",
       "SaleID_15    Personal Accessories     Eyewear   Hawk Eye  2018.0  Q1 2018   \n",
       "SaleID_235   Personal Accessories     Eyewear    Fairway  2018.0  Q3 2018   \n",
       "SaleID_1147     Camping Equipment    Lanterns  Firefly 4  2020.0  Q1 2020   \n",
       "\n",
       "              Revenue  Quantity  GrossMargin  \n",
       "SaleID                                        \n",
       "SaleID_15    29584.00     730.0     0.410535  \n",
       "SaleID_235   12331.05     609.0     0.404658  \n",
       "SaleID_1147   7587.64     258.0     0.387587  "
      ]
     },
     "execution_count": 53,
     "metadata": {},
     "output_type": "execute_result"
    }
   ],
   "source": [
    "sales_products_data.loc[['SaleID_15', 'SaleID_235', 'SaleID_1147']]"
   ]
  },
  {
   "cell_type": "markdown",
   "metadata": {},
   "source": [
    "With the help of the **.loc[]** indexer, select the last 5 records from the 'Year' column."
   ]
  },
  {
   "cell_type": "code",
   "execution_count": 54,
   "metadata": {},
   "outputs": [
    {
     "data": {
      "text/plain": [
       "SaleID\n",
       "SaleID_1272    2020.0\n",
       "SaleID_1273    2020.0\n",
       "SaleID_1274    2020.0\n",
       "SaleID_1275    2020.0\n",
       "SaleID_1276    2020.0\n",
       "Name: Year, dtype: float64"
      ]
     },
     "execution_count": 54,
     "metadata": {},
     "output_type": "execute_result"
    }
   ],
   "source": [
    "sales_products_data.loc[:, 'Year'].tail()"
   ]
  },
  {
   "cell_type": "markdown",
   "metadata": {},
   "source": [
    "## A Few Comments on Using .loc[] and .iloc[]"
   ]
  },
  {
   "cell_type": "markdown",
   "metadata": {},
   "source": [
    "Import the *Sales-products.csv* dataset into a DataFrame object called **sales_products_data**."
   ]
  },
  {
   "cell_type": "markdown",
   "metadata": {},
   "source": [
    "*Note: Please use the 'SaleID' column as an index for this DataFrame throughout this exercise.*"
   ]
  },
  {
   "cell_type": "code",
   "execution_count": 55,
   "metadata": {
    "scrolled": false
   },
   "outputs": [
    {
     "data": {
      "text/html": [
       "<div>\n",
       "<style scoped>\n",
       "    .dataframe tbody tr th:only-of-type {\n",
       "        vertical-align: middle;\n",
       "    }\n",
       "\n",
       "    .dataframe tbody tr th {\n",
       "        vertical-align: top;\n",
       "    }\n",
       "\n",
       "    .dataframe thead th {\n",
       "        text-align: right;\n",
       "    }\n",
       "</style>\n",
       "<table border=\"1\" class=\"dataframe\">\n",
       "  <thead>\n",
       "    <tr style=\"text-align: right;\">\n",
       "      <th></th>\n",
       "      <th>RetailerCountry</th>\n",
       "      <th>OrderMethod</th>\n",
       "      <th>RetailerType</th>\n",
       "      <th>ProductLine</th>\n",
       "      <th>ProductType</th>\n",
       "      <th>Product</th>\n",
       "      <th>Year</th>\n",
       "      <th>Quarter</th>\n",
       "      <th>Revenue</th>\n",
       "      <th>Quantity</th>\n",
       "      <th>GrossMargin</th>\n",
       "    </tr>\n",
       "    <tr>\n",
       "      <th>SaleID</th>\n",
       "      <th></th>\n",
       "      <th></th>\n",
       "      <th></th>\n",
       "      <th></th>\n",
       "      <th></th>\n",
       "      <th></th>\n",
       "      <th></th>\n",
       "      <th></th>\n",
       "      <th></th>\n",
       "      <th></th>\n",
       "      <th></th>\n",
       "    </tr>\n",
       "  </thead>\n",
       "  <tbody>\n",
       "    <tr>\n",
       "      <th>SaleID_1</th>\n",
       "      <td>United States</td>\n",
       "      <td>Fax</td>\n",
       "      <td>Outdoors Shop</td>\n",
       "      <td>Personal Accessories</td>\n",
       "      <td>Cooking Gear</td>\n",
       "      <td>TrailChef Deluxe Cook Set</td>\n",
       "      <td>2018.0</td>\n",
       "      <td>Q1 2018</td>\n",
       "      <td>59728.66</td>\n",
       "      <td>491.0</td>\n",
       "      <td>0.357548</td>\n",
       "    </tr>\n",
       "    <tr>\n",
       "      <th>SaleID_2</th>\n",
       "      <td>United States</td>\n",
       "      <td>Fax</td>\n",
       "      <td>Outdoors Shop</td>\n",
       "      <td>Sports Equipment</td>\n",
       "      <td>Cooking Gear</td>\n",
       "      <td>TrailChef Double Flame</td>\n",
       "      <td>2018.0</td>\n",
       "      <td>Q1 2018</td>\n",
       "      <td>36050.32</td>\n",
       "      <td>254.0</td>\n",
       "      <td>0.484274</td>\n",
       "    </tr>\n",
       "    <tr>\n",
       "      <th>SaleID_3</th>\n",
       "      <td>United States</td>\n",
       "      <td>Fax</td>\n",
       "      <td>Outdoors Shop</td>\n",
       "      <td>NaN</td>\n",
       "      <td>Tents</td>\n",
       "      <td>Star Dome</td>\n",
       "      <td>2018.0</td>\n",
       "      <td>Q1 2018</td>\n",
       "      <td>90040.48</td>\n",
       "      <td>149.0</td>\n",
       "      <td>NaN</td>\n",
       "    </tr>\n",
       "    <tr>\n",
       "      <th>SaleID_4</th>\n",
       "      <td>United States</td>\n",
       "      <td>Fax</td>\n",
       "      <td>Outdoors Shop</td>\n",
       "      <td>NaN</td>\n",
       "      <td>Tents</td>\n",
       "      <td>Star Gazer 2</td>\n",
       "      <td>2018.0</td>\n",
       "      <td>Q1 2018</td>\n",
       "      <td>NaN</td>\n",
       "      <td>305.0</td>\n",
       "      <td>0.292938</td>\n",
       "    </tr>\n",
       "    <tr>\n",
       "      <th>SaleID_5</th>\n",
       "      <td>United States</td>\n",
       "      <td>NaN</td>\n",
       "      <td>Outdoors Shop</td>\n",
       "      <td>Personal Accessories</td>\n",
       "      <td>First Aid</td>\n",
       "      <td>Compact Relief Kit</td>\n",
       "      <td>2018.0</td>\n",
       "      <td>Q1 2018</td>\n",
       "      <td>NaN</td>\n",
       "      <td>182.0</td>\n",
       "      <td>0.610710</td>\n",
       "    </tr>\n",
       "  </tbody>\n",
       "</table>\n",
       "</div>"
      ],
      "text/plain": [
       "         RetailerCountry OrderMethod   RetailerType           ProductLine  \\\n",
       "SaleID                                                                      \n",
       "SaleID_1   United States         Fax  Outdoors Shop  Personal Accessories   \n",
       "SaleID_2   United States         Fax  Outdoors Shop      Sports Equipment   \n",
       "SaleID_3   United States         Fax  Outdoors Shop                   NaN   \n",
       "SaleID_4   United States         Fax  Outdoors Shop                   NaN   \n",
       "SaleID_5   United States         NaN  Outdoors Shop  Personal Accessories   \n",
       "\n",
       "           ProductType                    Product    Year  Quarter   Revenue  \\\n",
       "SaleID                                                                         \n",
       "SaleID_1  Cooking Gear  TrailChef Deluxe Cook Set  2018.0  Q1 2018  59728.66   \n",
       "SaleID_2  Cooking Gear     TrailChef Double Flame  2018.0  Q1 2018  36050.32   \n",
       "SaleID_3         Tents                  Star Dome  2018.0  Q1 2018  90040.48   \n",
       "SaleID_4         Tents               Star Gazer 2  2018.0  Q1 2018       NaN   \n",
       "SaleID_5     First Aid         Compact Relief Kit  2018.0  Q1 2018       NaN   \n",
       "\n",
       "          Quantity  GrossMargin  \n",
       "SaleID                           \n",
       "SaleID_1     491.0     0.357548  \n",
       "SaleID_2     254.0     0.484274  \n",
       "SaleID_3     149.0          NaN  \n",
       "SaleID_4     305.0     0.292938  \n",
       "SaleID_5     182.0     0.610710  "
      ]
     },
     "execution_count": 55,
     "metadata": {},
     "output_type": "execute_result"
    }
   ],
   "source": [
    "data = pd.read_csv('Sales-products.csv', index_col = 'SaleID')\n",
    "sales_products_data = data.copy()\n",
    "sales_products_data.head()"
   ]
  },
  {
   "cell_type": "markdown",
   "metadata": {},
   "source": [
    "Although we are not advised to, can you think of an alternative syntax that you can use to obtain the same information? \n",
    "<br> *Hint: You don't need to use the **.loc[]** indexer.*\n",
    "<br><br> *Notes:* \n",
    "- *The syntax here differs from the syntax applied when we need the *.iloc[] indexer for a similar operation.*\n",
    "- *We are asking you to try this syntax out to make sure you are in control of obtaining the desired portion of the data regardless of the object it has been contained into. The syntax and tools are similar, while their utilization may differ.*"
   ]
  },
  {
   "cell_type": "code",
   "execution_count": 56,
   "metadata": {
    "scrolled": true
   },
   "outputs": [
    {
     "data": {
      "text/plain": [
       "0.29293788"
      ]
     },
     "execution_count": 56,
     "metadata": {},
     "output_type": "execute_result"
    }
   ],
   "source": [
    "sales_products_data['GrossMargin']['SaleID_4']"
   ]
  },
  {
   "cell_type": "markdown",
   "metadata": {},
   "source": [
    "Consider that you can obtain a Series object containing the values from the 'GrossMargin' column by executing the cell below."
   ]
  },
  {
   "cell_type": "code",
   "execution_count": 57,
   "metadata": {},
   "outputs": [
    {
     "data": {
      "text/plain": [
       "SaleID\n",
       "SaleID_1       0.357548\n",
       "SaleID_2       0.484274\n",
       "SaleID_3            NaN\n",
       "SaleID_4       0.292938\n",
       "SaleID_5       0.610710\n",
       "                 ...   \n",
       "SaleID_1272    0.298114\n",
       "SaleID_1273    0.445287\n",
       "SaleID_1274    0.568420\n",
       "SaleID_1275    0.490667\n",
       "SaleID_1276    0.386895\n",
       "Name: GrossMargin, Length: 1276, dtype: float64"
      ]
     },
     "execution_count": 57,
     "metadata": {},
     "output_type": "execute_result"
    }
   ],
   "source": [
    "sales_products_data.GrossMargin"
   ]
  },
  {
   "cell_type": "markdown",
   "metadata": {},
   "source": [
    "With that in mind, although we are not advised to, can you think of a third alternative way to obtain the value of 0.28293788?"
   ]
  },
  {
   "cell_type": "code",
   "execution_count": 58,
   "metadata": {},
   "outputs": [
    {
     "data": {
      "text/plain": [
       "0.29293788"
      ]
     },
     "execution_count": 58,
     "metadata": {},
     "output_type": "execute_result"
    }
   ],
   "source": [
    "sales_products_data.GrossMargin['SaleID_4']"
   ]
  },
  {
   "cell_type": "markdown",
   "metadata": {},
   "source": [
    "Use both the **.loc[]** and **.iloc[]** indexers to obtain the values from the 10th and 15th rows from column \"OrderMethod\" from the **sales_products_data** DataFrame."
   ]
  },
  {
   "cell_type": "code",
   "execution_count": 59,
   "metadata": {},
   "outputs": [
    {
     "data": {
      "text/plain": [
       "SaleID\n",
       "SaleID_10    Mail\n",
       "SaleID_15     Web\n",
       "Name: OrderMethod, dtype: object"
      ]
     },
     "execution_count": 59,
     "metadata": {},
     "output_type": "execute_result"
    }
   ],
   "source": [
    "sales_products_data.loc[:, 'OrderMethod'].iloc[[9,14]]"
   ]
  },
  {
   "cell_type": "markdown",
   "metadata": {},
   "source": [
    "Use the **.iloc[]** indexer to obtain a DataFrame composed of the 2nd and 3rd columns of **sales_products_data**."
   ]
  },
  {
   "cell_type": "code",
   "execution_count": 60,
   "metadata": {},
   "outputs": [
    {
     "data": {
      "text/html": [
       "<div>\n",
       "<style scoped>\n",
       "    .dataframe tbody tr th:only-of-type {\n",
       "        vertical-align: middle;\n",
       "    }\n",
       "\n",
       "    .dataframe tbody tr th {\n",
       "        vertical-align: top;\n",
       "    }\n",
       "\n",
       "    .dataframe thead th {\n",
       "        text-align: right;\n",
       "    }\n",
       "</style>\n",
       "<table border=\"1\" class=\"dataframe\">\n",
       "  <thead>\n",
       "    <tr style=\"text-align: right;\">\n",
       "      <th></th>\n",
       "      <th>OrderMethod</th>\n",
       "      <th>RetailerType</th>\n",
       "    </tr>\n",
       "    <tr>\n",
       "      <th>SaleID</th>\n",
       "      <th></th>\n",
       "      <th></th>\n",
       "    </tr>\n",
       "  </thead>\n",
       "  <tbody>\n",
       "    <tr>\n",
       "      <th>SaleID_1</th>\n",
       "      <td>Fax</td>\n",
       "      <td>Outdoors Shop</td>\n",
       "    </tr>\n",
       "    <tr>\n",
       "      <th>SaleID_2</th>\n",
       "      <td>Fax</td>\n",
       "      <td>Outdoors Shop</td>\n",
       "    </tr>\n",
       "    <tr>\n",
       "      <th>SaleID_3</th>\n",
       "      <td>Fax</td>\n",
       "      <td>Outdoors Shop</td>\n",
       "    </tr>\n",
       "    <tr>\n",
       "      <th>SaleID_4</th>\n",
       "      <td>Fax</td>\n",
       "      <td>Outdoors Shop</td>\n",
       "    </tr>\n",
       "    <tr>\n",
       "      <th>SaleID_5</th>\n",
       "      <td>NaN</td>\n",
       "      <td>Outdoors Shop</td>\n",
       "    </tr>\n",
       "    <tr>\n",
       "      <th>...</th>\n",
       "      <td>...</td>\n",
       "      <td>...</td>\n",
       "    </tr>\n",
       "    <tr>\n",
       "      <th>SaleID_1272</th>\n",
       "      <td>Sales visit</td>\n",
       "      <td>Outdoors Shop</td>\n",
       "    </tr>\n",
       "    <tr>\n",
       "      <th>SaleID_1273</th>\n",
       "      <td>Sales visit</td>\n",
       "      <td>Outdoors Shop</td>\n",
       "    </tr>\n",
       "    <tr>\n",
       "      <th>SaleID_1274</th>\n",
       "      <td>Sales visit</td>\n",
       "      <td>Outdoors Shop</td>\n",
       "    </tr>\n",
       "    <tr>\n",
       "      <th>SaleID_1275</th>\n",
       "      <td>Sales visit</td>\n",
       "      <td>Outdoors Shop</td>\n",
       "    </tr>\n",
       "    <tr>\n",
       "      <th>SaleID_1276</th>\n",
       "      <td>Sales visit</td>\n",
       "      <td>Outdoors Shop</td>\n",
       "    </tr>\n",
       "  </tbody>\n",
       "</table>\n",
       "<p>1276 rows × 2 columns</p>\n",
       "</div>"
      ],
      "text/plain": [
       "             OrderMethod   RetailerType\n",
       "SaleID                                 \n",
       "SaleID_1             Fax  Outdoors Shop\n",
       "SaleID_2             Fax  Outdoors Shop\n",
       "SaleID_3             Fax  Outdoors Shop\n",
       "SaleID_4             Fax  Outdoors Shop\n",
       "SaleID_5             NaN  Outdoors Shop\n",
       "...                  ...            ...\n",
       "SaleID_1272  Sales visit  Outdoors Shop\n",
       "SaleID_1273  Sales visit  Outdoors Shop\n",
       "SaleID_1274  Sales visit  Outdoors Shop\n",
       "SaleID_1275  Sales visit  Outdoors Shop\n",
       "SaleID_1276  Sales visit  Outdoors Shop\n",
       "\n",
       "[1276 rows x 2 columns]"
      ]
     },
     "execution_count": 60,
     "metadata": {},
     "output_type": "execute_result"
    }
   ],
   "source": [
    "sales_products_data.iloc[:, [1,2]]"
   ]
  },
  {
   "cell_type": "markdown",
   "metadata": {},
   "source": [
    "Use the **.loc[]** accessor to obtain a DataFrame composed of the records of **sales_products_data** for sales with ID 50 and 87."
   ]
  },
  {
   "cell_type": "code",
   "execution_count": 61,
   "metadata": {},
   "outputs": [
    {
     "data": {
      "text/html": [
       "<div>\n",
       "<style scoped>\n",
       "    .dataframe tbody tr th:only-of-type {\n",
       "        vertical-align: middle;\n",
       "    }\n",
       "\n",
       "    .dataframe tbody tr th {\n",
       "        vertical-align: top;\n",
       "    }\n",
       "\n",
       "    .dataframe thead th {\n",
       "        text-align: right;\n",
       "    }\n",
       "</style>\n",
       "<table border=\"1\" class=\"dataframe\">\n",
       "  <thead>\n",
       "    <tr style=\"text-align: right;\">\n",
       "      <th></th>\n",
       "      <th>RetailerCountry</th>\n",
       "      <th>OrderMethod</th>\n",
       "      <th>RetailerType</th>\n",
       "      <th>ProductLine</th>\n",
       "      <th>ProductType</th>\n",
       "      <th>Product</th>\n",
       "      <th>Year</th>\n",
       "      <th>Quarter</th>\n",
       "      <th>Revenue</th>\n",
       "      <th>Quantity</th>\n",
       "      <th>GrossMargin</th>\n",
       "    </tr>\n",
       "    <tr>\n",
       "      <th>SaleID</th>\n",
       "      <th></th>\n",
       "      <th></th>\n",
       "      <th></th>\n",
       "      <th></th>\n",
       "      <th></th>\n",
       "      <th></th>\n",
       "      <th></th>\n",
       "      <th></th>\n",
       "      <th></th>\n",
       "      <th></th>\n",
       "      <th></th>\n",
       "    </tr>\n",
       "  </thead>\n",
       "  <tbody>\n",
       "    <tr>\n",
       "      <th>SaleID_50</th>\n",
       "      <td>Canada</td>\n",
       "      <td>Web</td>\n",
       "      <td>Sports Store</td>\n",
       "      <td>Mountaineering Equipment</td>\n",
       "      <td>Binoculars</td>\n",
       "      <td>Seeker 50</td>\n",
       "      <td>2018.0</td>\n",
       "      <td>Q1 2018</td>\n",
       "      <td>11067.22</td>\n",
       "      <td>89.0</td>\n",
       "      <td>0.275588</td>\n",
       "    </tr>\n",
       "    <tr>\n",
       "      <th>SaleID_87</th>\n",
       "      <td>Austria</td>\n",
       "      <td>Web</td>\n",
       "      <td>Sports Store</td>\n",
       "      <td>Personal Accessories</td>\n",
       "      <td>Tents</td>\n",
       "      <td>Star Peg</td>\n",
       "      <td>2018.0</td>\n",
       "      <td>Q2 2018</td>\n",
       "      <td>3325.94</td>\n",
       "      <td>1599.0</td>\n",
       "      <td>NaN</td>\n",
       "    </tr>\n",
       "  </tbody>\n",
       "</table>\n",
       "</div>"
      ],
      "text/plain": [
       "          RetailerCountry OrderMethod  RetailerType               ProductLine  \\\n",
       "SaleID                                                                          \n",
       "SaleID_50          Canada         Web  Sports Store  Mountaineering Equipment   \n",
       "SaleID_87         Austria         Web  Sports Store      Personal Accessories   \n",
       "\n",
       "          ProductType    Product    Year  Quarter   Revenue  Quantity  \\\n",
       "SaleID                                                                  \n",
       "SaleID_50  Binoculars  Seeker 50  2018.0  Q1 2018  11067.22      89.0   \n",
       "SaleID_87       Tents   Star Peg  2018.0  Q2 2018   3325.94    1599.0   \n",
       "\n",
       "           GrossMargin  \n",
       "SaleID                  \n",
       "SaleID_50     0.275588  \n",
       "SaleID_87          NaN  "
      ]
     },
     "execution_count": 61,
     "metadata": {},
     "output_type": "execute_result"
    }
   ],
   "source": [
    "sales_products_data.loc[['SaleID_50', 'SaleID_87'], :]"
   ]
  }
 ],
 "metadata": {
  "kernelspec": {
   "display_name": "Python 3",
   "language": "python",
   "name": "python3"
  },
  "language_info": {
   "codemirror_mode": {
    "name": "ipython",
    "version": 3
   },
   "file_extension": ".py",
   "mimetype": "text/x-python",
   "name": "python",
   "nbconvert_exporter": "python",
   "pygments_lexer": "ipython3",
   "version": "3.8.5"
  }
 },
 "nbformat": 4,
 "nbformat_minor": 2
}

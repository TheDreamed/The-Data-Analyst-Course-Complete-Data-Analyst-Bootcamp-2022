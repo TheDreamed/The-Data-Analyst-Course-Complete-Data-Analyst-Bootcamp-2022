{
 "cells": [
  {
   "cell_type": "markdown",
   "metadata": {},
   "source": [
    "## Libraries"
   ]
  },
  {
   "cell_type": "code",
   "execution_count": 1,
   "metadata": {},
   "outputs": [],
   "source": [
    "import numpy as np\n",
    "import pandas as pd\n",
    "import matplotlib.pyplot as plt\n",
    "import seaborn as sns\n",
    "from matplotlib.ticker import PercentFormatter\n",
    "sns.set()"
   ]
  },
  {
   "cell_type": "markdown",
   "metadata": {},
   "source": [
    "## Bar Chart Homework Task I - Create a Horizontal Bar Chart"
   ]
  },
  {
   "cell_type": "markdown",
   "metadata": {},
   "source": [
    "### Your homework task is to use the data set from the section and create a Horizontal Bar Chart. In essence, the information on the chart will remain the same. But you’ll have swapped the x- and y-axis of the chart.\n",
    "### This is your chance to explore the software, so you try out different options. For instance, choosing another color for the chart or exploring alternative chart formatting options.\n",
    "### Tip: \tPython - in Matplotlib the barh() function creates a horizontal bar chart.  \n"
   ]
  },
  {
   "cell_type": "code",
   "execution_count": 2,
   "metadata": {},
   "outputs": [
    {
     "data": {
      "text/html": [
       "<div>\n",
       "<style scoped>\n",
       "    .dataframe tbody tr th:only-of-type {\n",
       "        vertical-align: middle;\n",
       "    }\n",
       "\n",
       "    .dataframe tbody tr th {\n",
       "        vertical-align: top;\n",
       "    }\n",
       "\n",
       "    .dataframe thead th {\n",
       "        text-align: right;\n",
       "    }\n",
       "</style>\n",
       "<table border=\"1\" class=\"dataframe\">\n",
       "  <thead>\n",
       "    <tr style=\"text-align: right;\">\n",
       "      <th></th>\n",
       "      <th>Cities</th>\n",
       "      <th>Frequency</th>\n",
       "    </tr>\n",
       "  </thead>\n",
       "  <tbody>\n",
       "    <tr>\n",
       "      <th>0</th>\n",
       "      <td>New York</td>\n",
       "      <td>12327</td>\n",
       "    </tr>\n",
       "    <tr>\n",
       "      <th>1</th>\n",
       "      <td>LA</td>\n",
       "      <td>17129</td>\n",
       "    </tr>\n",
       "    <tr>\n",
       "      <th>2</th>\n",
       "      <td>San Francisco</td>\n",
       "      <td>19923</td>\n",
       "    </tr>\n",
       "    <tr>\n",
       "      <th>3</th>\n",
       "      <td>Total</td>\n",
       "      <td>49379</td>\n",
       "    </tr>\n",
       "  </tbody>\n",
       "</table>\n",
       "</div>"
      ],
      "text/plain": [
       "          Cities  Frequency\n",
       "0       New York      12327\n",
       "1             LA      17129\n",
       "2  San Francisco      19923\n",
       "3          Total      49379"
      ]
     },
     "execution_count": 2,
     "metadata": {},
     "output_type": "execute_result"
    }
   ],
   "source": [
    "df_used_cars = pd.read_csv(\"bar_chart_homework_data.csv\")\n",
    "df_used_cars"
   ]
  },
  {
   "cell_type": "code",
   "execution_count": null,
   "metadata": {},
   "outputs": [],
   "source": []
  },
  {
   "cell_type": "code",
   "execution_count": null,
   "metadata": {
    "scrolled": true
   },
   "outputs": [],
   "source": []
  },
  {
   "cell_type": "markdown",
   "metadata": {},
   "source": [
    "## Bar Chart Homework Task II - Create Bar Chart of Ice Cream Shop Sales"
   ]
  },
  {
   "cell_type": "markdown",
   "metadata": {},
   "source": [
    "### You have a frequency distribution table with all the sales of an ice cream shop chain across four cities. Your task is to create a bar chart of the data. \n",
    "\n",
    "### Step 1: Create the chart.\n",
    "### Step 2: Make sure your chart has sufficient labeling and is well styled.\n",
    "### Step 3: Interpret the chart."
   ]
  },
  {
   "cell_type": "code",
   "execution_count": null,
   "metadata": {},
   "outputs": [],
   "source": []
  },
  {
   "cell_type": "code",
   "execution_count": null,
   "metadata": {},
   "outputs": [],
   "source": []
  },
  {
   "cell_type": "code",
   "execution_count": null,
   "metadata": {},
   "outputs": [],
   "source": []
  },
  {
   "cell_type": "markdown",
   "metadata": {},
   "source": [
    "## Area Chart Homework I"
   ]
  },
  {
   "cell_type": "markdown",
   "metadata": {},
   "source": [
    "### Create a stacked area chart using all four engine type categories on the chart. They are Gas, Petrol, Diesel, Other.\n",
    "### Think about the order in which you’ll display the categories.\n",
    "### Consider the colors, which would fit your graph.\n",
    "### Finally, think about a setting in which you’d be required to present all four categories from the data. What would be the interpretation of your newly created chart?\n"
   ]
  },
  {
   "cell_type": "code",
   "execution_count": null,
   "metadata": {},
   "outputs": [],
   "source": []
  },
  {
   "cell_type": "code",
   "execution_count": null,
   "metadata": {},
   "outputs": [],
   "source": []
  },
  {
   "cell_type": "code",
   "execution_count": null,
   "metadata": {},
   "outputs": [],
   "source": []
  },
  {
   "cell_type": "markdown",
   "metadata": {},
   "source": [
    "## Area Chart Homework II - Create an Area Chart of a Company's Revenue"
   ]
  },
  {
   "cell_type": "markdown",
   "metadata": {},
   "source": [
    "### Your homework task is to create a stacked area chart of a printer company and its revenue for the last 12 months. The data set contains monthly values in the span of a year and features three revenue sources:\n",
    "### -\tInternational Printer Sales\n",
    "### -\tDomestic Printer Sales\n",
    "### -\tServices (fixed fee)\n",
    "### Think about the ordering of the categories, as well as the appropriate colors when displaying your chart. After you’ve completed the chart think about interpretation. What does the chart show? Which would you say is the most important revenue source for the business and why? How does the performance of the company look when considering the Date factor?\n",
    "\n"
   ]
  },
  {
   "cell_type": "code",
   "execution_count": null,
   "metadata": {},
   "outputs": [],
   "source": []
  },
  {
   "cell_type": "code",
   "execution_count": null,
   "metadata": {},
   "outputs": [],
   "source": [
    "\n"
   ]
  },
  {
   "cell_type": "code",
   "execution_count": null,
   "metadata": {},
   "outputs": [],
   "source": []
  },
  {
   "cell_type": "markdown",
   "metadata": {},
   "source": [
    "## Line Chart Homework - Create a Line Chart with New Index Data"
   ]
  },
  {
   "cell_type": "markdown",
   "metadata": {},
   "source": [
    "### Your Homework task is to create a line chart using the new index data which is from 2010 until 2020.\n",
    "### After you’ve created your line chart:\n",
    "### •\tThink about narrowing down the time frame to a more specific period.\n",
    "### •\tThink about the interpretation of the chart with a specific time frame. Why have you chosen this period, specifically? What would you tell your audience or your colleagues if you were presenting this chart?\n"
   ]
  },
  {
   "cell_type": "code",
   "execution_count": null,
   "metadata": {},
   "outputs": [],
   "source": []
  },
  {
   "cell_type": "code",
   "execution_count": null,
   "metadata": {},
   "outputs": [],
   "source": []
  },
  {
   "cell_type": "code",
   "execution_count": null,
   "metadata": {},
   "outputs": [],
   "source": []
  },
  {
   "cell_type": "code",
   "execution_count": null,
   "metadata": {},
   "outputs": [],
   "source": []
  },
  {
   "cell_type": "code",
   "execution_count": null,
   "metadata": {},
   "outputs": [],
   "source": []
  },
  {
   "cell_type": "code",
   "execution_count": null,
   "metadata": {},
   "outputs": [],
   "source": []
  },
  {
   "cell_type": "code",
   "execution_count": null,
   "metadata": {},
   "outputs": [],
   "source": []
  },
  {
   "cell_type": "code",
   "execution_count": null,
   "metadata": {},
   "outputs": [],
   "source": []
  },
  {
   "cell_type": "markdown",
   "metadata": {},
   "source": [
    "## Histogram Homework Task - Create a Histogram Showing Distribution of Age"
   ]
  },
  {
   "cell_type": "markdown",
   "metadata": {},
   "source": [
    "### The data set for this assignment contains a survey of geodemographic features among 2000 participants. Your task is to create a histogram based on the Age variable in the data.\n",
    "### •\tDecide on how many bins or what intervals lengths are appropriate for the histogram\n",
    "### •\tWhat is the data distribution? What insight can you gain about the age/age groups of the participants in the survey?\n",
    "### •\tDon’t forget to format your chart by improving the colors and including proper chart labeling."
   ]
  },
  {
   "cell_type": "code",
   "execution_count": null,
   "metadata": {},
   "outputs": [],
   "source": []
  },
  {
   "cell_type": "code",
   "execution_count": null,
   "metadata": {},
   "outputs": [],
   "source": []
  },
  {
   "cell_type": "code",
   "execution_count": null,
   "metadata": {},
   "outputs": [],
   "source": []
  },
  {
   "cell_type": "markdown",
   "metadata": {},
   "source": [
    "## Scatter Plot Homework Task - Create a Scatter Plot of Student Scores"
   ]
  },
  {
   "cell_type": "markdown",
   "metadata": {},
   "source": [
    "### Your task is to plot the GPA and SAT student scores using a scatter plot.\n",
    "### •\tDecide which will be your x- and y-axis\n",
    "### •\tThink about chart interpretation. What is the relationship between these variables?\n",
    "### •\tConsider altering the chart limits, so the y-axis doesn’t start from 0. "
   ]
  },
  {
   "cell_type": "code",
   "execution_count": null,
   "metadata": {},
   "outputs": [],
   "source": []
  },
  {
   "cell_type": "code",
   "execution_count": null,
   "metadata": {},
   "outputs": [],
   "source": []
  },
  {
   "cell_type": "code",
   "execution_count": null,
   "metadata": {},
   "outputs": [],
   "source": []
  },
  {
   "cell_type": "markdown",
   "metadata": {},
   "source": [
    "## Regression Plot Homework Task - Regression Plot of Auto Insurance in Sweden"
   ]
  },
  {
   "cell_type": "markdown",
   "metadata": {},
   "source": [
    "### Create a regression plot on the data set of car insurance in Sweden.\n",
    "### •\tDecide which is your x- and which your y-axis\n",
    "### •\tWhat is the relationship between the two variables?\n",
    "### •\tHow would you interpret the chart?\n",
    "### •\tWhat would be an appropriate chart title?"
   ]
  },
  {
   "cell_type": "code",
   "execution_count": null,
   "metadata": {},
   "outputs": [],
   "source": []
  },
  {
   "cell_type": "code",
   "execution_count": null,
   "metadata": {},
   "outputs": [],
   "source": []
  },
  {
   "cell_type": "code",
   "execution_count": null,
   "metadata": {},
   "outputs": [],
   "source": []
  },
  {
   "cell_type": "code",
   "execution_count": null,
   "metadata": {},
   "outputs": [],
   "source": []
  },
  {
   "cell_type": "markdown",
   "metadata": {},
   "source": [
    "## Bar and Line Chart Homework - Pareto Chart of Movie Goers' Complaints"
   ]
  },
  {
   "cell_type": "markdown",
   "metadata": {},
   "source": [
    "### Your goal for this homework task is to create a Pareto chart. A Pareto is a specific case of a bar and line chart. The specificity comes from the fact that the bars on the Pareto bar chart are displayed in decreasing order of frequency. The line chart on the other hand always shows the cumulative frequency on a Pareto. Cumulative frequency means the sum of frequencies occurring up to this point. So, for the first element, it will show the frequency of occurrence for the first element only. For the second element it will be the sum of frequency for the first and second element, and so on. The last cumulative frequency is 100% as it is the sum of all individual frequencies.\n",
    "### Related to the Pareto chart is the Pareto principle, also known as the 80/20 rule. Observed for the first time by Italian economist Wilfredo Pareto, who realized that around 80% of the land in Italy was owned by about 20% of the people. As such, this phenomenon shows that usually around 80% of problems are caused by 20% of the people. \n",
    "### Our data set for this task contains the top 5 Movie Goers complaints. Your task is to create a Pareto chart, based on the data. \n",
    "### The complaints must be ordered in decreasing order of frequency. This will represent your bar chart. \n",
    "### The cumulative frequency will be your line chart, represented as percentages. It must sum up to 100%, so your last value on the line chart must show 100%.\n"
   ]
  },
  {
   "cell_type": "code",
   "execution_count": null,
   "metadata": {},
   "outputs": [],
   "source": []
  },
  {
   "cell_type": "code",
   "execution_count": null,
   "metadata": {},
   "outputs": [],
   "source": []
  },
  {
   "cell_type": "code",
   "execution_count": null,
   "metadata": {},
   "outputs": [],
   "source": []
  },
  {
   "cell_type": "code",
   "execution_count": null,
   "metadata": {},
   "outputs": [],
   "source": []
  },
  {
   "cell_type": "code",
   "execution_count": null,
   "metadata": {},
   "outputs": [],
   "source": []
  }
 ],
 "metadata": {
  "kernelspec": {
   "display_name": "Python 3 (ipykernel)",
   "language": "python",
   "name": "python3"
  },
  "language_info": {
   "codemirror_mode": {
    "name": "ipython",
    "version": 3
   },
   "file_extension": ".py",
   "mimetype": "text/x-python",
   "name": "python",
   "nbconvert_exporter": "python",
   "pygments_lexer": "ipython3",
   "version": "3.9.13"
  }
 },
 "nbformat": 4,
 "nbformat_minor": 2
}

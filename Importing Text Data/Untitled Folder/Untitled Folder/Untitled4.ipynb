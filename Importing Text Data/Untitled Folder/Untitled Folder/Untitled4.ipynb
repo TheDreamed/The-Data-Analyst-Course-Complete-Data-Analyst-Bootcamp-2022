{
 "cells": [
  {
   "cell_type": "code",
   "execution_count": 10,
   "id": "4ea7bea2",
   "metadata": {},
   "outputs": [
    {
     "name": "stdout",
     "output_type": "stream",
     "text": [
      "This product is from Category \"A\".\n"
     ]
    }
   ],
   "source": [
    "print('This product is from Category \"A\".')"
   ]
  },
  {
   "cell_type": "code",
   "execution_count": 12,
   "id": "53a542a7",
   "metadata": {},
   "outputs": [
    {
     "name": "stdout",
     "output_type": "stream",
     "text": [
      "This product is from Category \"A\". That product is from Category \"B\".\n"
     ]
    }
   ],
   "source": [
    "print('This product is from Category \"A\". ' + 'That product is from Category \"B\".')"
   ]
  },
  {
   "cell_type": "code",
   "execution_count": 13,
   "id": "149271c1",
   "metadata": {},
   "outputs": [
    {
     "name": "stdout",
     "output_type": "stream",
     "text": [
      "This product is from Category \"A\". \r",
      "Product 0001\n"
     ]
    }
   ],
   "source": [
    "print('This product is from Category \"A\". \\rProduct 0001')"
   ]
  },
  {
   "cell_type": "code",
   "execution_count": null,
   "id": "0ab744eb",
   "metadata": {},
   "outputs": [],
   "source": []
  }
 ],
 "metadata": {
  "kernelspec": {
   "display_name": "Python 3 (ipykernel)",
   "language": "python",
   "name": "python3"
  },
  "language_info": {
   "codemirror_mode": {
    "name": "ipython",
    "version": 3
   },
   "file_extension": ".py",
   "mimetype": "text/x-python",
   "name": "python",
   "nbconvert_exporter": "python",
   "pygments_lexer": "ipython3",
   "version": "3.9.13"
  }
 },
 "nbformat": 4,
 "nbformat_minor": 5
}

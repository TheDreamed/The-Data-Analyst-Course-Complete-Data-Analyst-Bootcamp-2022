{
 "cells": [
  {
   "cell_type": "code",
   "execution_count": 7,
   "id": "c43a1518",
   "metadata": {},
   "outputs": [
    {
     "name": "stdout",
     "output_type": "stream",
     "text": [
      "This item is from product category \"A\"\n"
     ]
    }
   ],
   "source": [
    "product_category = ['A','B']\n",
    "print('This item is from product category \"%s\"' % product_category[0])"
   ]
  },
  {
   "cell_type": "code",
   "execution_count": 8,
   "id": "3233bc32",
   "metadata": {},
   "outputs": [
    {
     "name": "stdout",
     "output_type": "stream",
     "text": [
      "This item is from product category \"500\"\n"
     ]
    }
   ],
   "source": [
    "quantities = [500,600]\n",
    "print('This item is from product category \"%s\"' % quantities[0])"
   ]
  },
  {
   "cell_type": "code",
   "execution_count": 9,
   "id": "26f775e9",
   "metadata": {},
   "outputs": [
    {
     "name": "stdout",
     "output_type": "stream",
     "text": [
      "We currently have 500 available units of this item.\n"
     ]
    }
   ],
   "source": [
    "print('We currently have %d available units of this item.' % quantities[0])"
   ]
  },
  {
   "cell_type": "code",
   "execution_count": 16,
   "id": "64acdcce",
   "metadata": {},
   "outputs": [
    {
     "name": "stdout",
     "output_type": "stream",
     "text": [
      "This stock costs $60.35 per share.\n"
     ]
    }
   ],
   "source": [
    "stock_share_price_list = [40.50, 60.35]\n",
    "print(\"This stock costs $%.2f per share.\" % stock_share_price_list[1])"
   ]
  },
  {
   "cell_type": "code",
   "execution_count": 17,
   "id": "34eb1459",
   "metadata": {},
   "outputs": [
    {
     "name": "stdout",
     "output_type": "stream",
     "text": [
      "Currently, we have 600 units of Category \"B\" products in store\n"
     ]
    }
   ],
   "source": [
    "i = 1\n",
    "print(\"Currently, we have %d units of Category \\\"%s\\\" products in store\" % (quantities[i], product_category[i]))"
   ]
  },
  {
   "cell_type": "code",
   "execution_count": null,
   "id": "b830f2e0",
   "metadata": {},
   "outputs": [],
   "source": []
  }
 ],
 "metadata": {
  "kernelspec": {
   "display_name": "Python 3 (ipykernel)",
   "language": "python",
   "name": "python3"
  },
  "language_info": {
   "codemirror_mode": {
    "name": "ipython",
    "version": 3
   },
   "file_extension": ".py",
   "mimetype": "text/x-python",
   "name": "python",
   "nbconvert_exporter": "python",
   "pygments_lexer": "ipython3",
   "version": "3.9.13"
  }
 },
 "nbformat": 4,
 "nbformat_minor": 5
}

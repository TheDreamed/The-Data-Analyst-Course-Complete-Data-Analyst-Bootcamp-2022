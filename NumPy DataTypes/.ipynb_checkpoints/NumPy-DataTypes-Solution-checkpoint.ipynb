{
 "cells": [
  {
   "cell_type": "markdown",
   "metadata": {},
   "source": [
    "# NumPy DataTypes"
   ]
  },
  {
   "cell_type": "code",
   "execution_count": 1,
   "metadata": {},
   "outputs": [],
   "source": [
    "import numpy as np"
   ]
  },
  {
   "cell_type": "markdown",
   "metadata": {},
   "source": [
    "### 1. With the help of the <i> np.array() </i>function, create a 1-D array variable <i> array_hw_1 </i> with the numbers from 1 to 8 and display it on the screen."
   ]
  },
  {
   "cell_type": "code",
   "execution_count": 2,
   "metadata": {},
   "outputs": [
    {
     "data": {
      "text/plain": [
       "array([1, 2, 3, 4, 5, 6, 7, 8])"
      ]
     },
     "execution_count": 2,
     "metadata": {},
     "output_type": "execute_result"
    }
   ],
   "source": [
    "array_hw_1 = np.array([1,2,3,4,5,6,7,8])\n",
    "array_hw_1"
   ]
  },
  {
   "cell_type": "markdown",
   "metadata": {},
   "source": [
    "### 2.Check its type, shape and size. \n",
    "<i> (<b>Hint </b>: \"type\" is a Python function, while \"shape\" and \"size\" are attributes of the array) </i>"
   ]
  },
  {
   "cell_type": "code",
   "execution_count": 3,
   "metadata": {
    "scrolled": true
   },
   "outputs": [
    {
     "data": {
      "text/plain": [
       "numpy.ndarray"
      ]
     },
     "execution_count": 3,
     "metadata": {},
     "output_type": "execute_result"
    }
   ],
   "source": [
    "type(array_hw_1)"
   ]
  },
  {
   "cell_type": "code",
   "execution_count": 4,
   "metadata": {},
   "outputs": [
    {
     "data": {
      "text/plain": [
       "(8,)"
      ]
     },
     "execution_count": 4,
     "metadata": {},
     "output_type": "execute_result"
    }
   ],
   "source": [
    "array_hw_1.shape"
   ]
  },
  {
   "cell_type": "code",
   "execution_count": 5,
   "metadata": {},
   "outputs": [
    {
     "data": {
      "text/plain": [
       "8"
      ]
     },
     "execution_count": 5,
     "metadata": {},
     "output_type": "execute_result"
    }
   ],
   "source": [
    "array_hw_1.size"
   ]
  },
  {
   "cell_type": "markdown",
   "metadata": {},
   "source": [
    "### 3. Now, create a 2x4 2-D array, <i> array_hw_2</i> with the same values & display it on screen. "
   ]
  },
  {
   "cell_type": "code",
   "execution_count": 6,
   "metadata": {},
   "outputs": [
    {
     "data": {
      "text/plain": [
       "array([[1, 2, 3, 4],\n",
       "       [5, 6, 7, 8]])"
      ]
     },
     "execution_count": 6,
     "metadata": {},
     "output_type": "execute_result"
    }
   ],
   "source": [
    "array_hw_2 = np.array([[1,2,3,4],[5,6,7,8]])\n",
    "array_hw_2"
   ]
  },
  {
   "cell_type": "markdown",
   "metadata": {},
   "source": [
    "### 4. Find its type, shape, and size. "
   ]
  },
  {
   "cell_type": "code",
   "execution_count": 7,
   "metadata": {},
   "outputs": [
    {
     "data": {
      "text/plain": [
       "numpy.ndarray"
      ]
     },
     "execution_count": 7,
     "metadata": {},
     "output_type": "execute_result"
    }
   ],
   "source": [
    "type(array_hw_2)"
   ]
  },
  {
   "cell_type": "code",
   "execution_count": 8,
   "metadata": {},
   "outputs": [
    {
     "data": {
      "text/plain": [
       "(2, 4)"
      ]
     },
     "execution_count": 8,
     "metadata": {},
     "output_type": "execute_result"
    }
   ],
   "source": [
    "array_hw_2.shape"
   ]
  },
  {
   "cell_type": "code",
   "execution_count": 9,
   "metadata": {},
   "outputs": [
    {
     "data": {
      "text/plain": [
       "8"
      ]
     },
     "execution_count": 9,
     "metadata": {},
     "output_type": "execute_result"
    }
   ],
   "source": [
    "array_hw_2.size"
   ]
  },
  {
   "cell_type": "markdown",
   "metadata": {},
   "source": [
    "### 5. Use square brackets to create a 3-D array with the same values as <i> array_hw_2 </i> and display it on screen."
   ]
  },
  {
   "cell_type": "code",
   "execution_count": 10,
   "metadata": {},
   "outputs": [
    {
     "data": {
      "text/plain": [
       "array([[[1, 2, 3, 4],\n",
       "        [5, 6, 7, 8]]])"
      ]
     },
     "execution_count": 10,
     "metadata": {},
     "output_type": "execute_result"
    }
   ],
   "source": [
    "array_hw_3 = np.array([[[1,2,3,4],[5,6,7,8]]])\n",
    "array_hw_3"
   ]
  },
  {
   "cell_type": "markdown",
   "metadata": {},
   "source": [
    "### 6. Find its type, shape and size. \n"
   ]
  },
  {
   "cell_type": "code",
   "execution_count": 11,
   "metadata": {},
   "outputs": [
    {
     "data": {
      "text/plain": [
       "numpy.ndarray"
      ]
     },
     "execution_count": 11,
     "metadata": {},
     "output_type": "execute_result"
    }
   ],
   "source": [
    "type(array_hw_3)"
   ]
  },
  {
   "cell_type": "code",
   "execution_count": 12,
   "metadata": {},
   "outputs": [
    {
     "data": {
      "text/plain": [
       "(1, 2, 4)"
      ]
     },
     "execution_count": 12,
     "metadata": {},
     "output_type": "execute_result"
    }
   ],
   "source": [
    "array_hw_3.shape"
   ]
  },
  {
   "cell_type": "code",
   "execution_count": 13,
   "metadata": {},
   "outputs": [
    {
     "data": {
      "text/plain": [
       "8"
      ]
     },
     "execution_count": 13,
     "metadata": {},
     "output_type": "execute_result"
    }
   ],
   "source": [
    "array_hw_3.size"
   ]
  },
  {
   "cell_type": "markdown",
   "metadata": {},
   "source": [
    "### 7. Define a 2-D list <i> list_hw_1 </i> with the same values as <i> array_hw_2 </i>and display it on screen."
   ]
  },
  {
   "cell_type": "code",
   "execution_count": 14,
   "metadata": {},
   "outputs": [
    {
     "data": {
      "text/plain": [
       "[[1, 2, 3, 4], [5, 6, 7, 8]]"
      ]
     },
     "execution_count": 14,
     "metadata": {},
     "output_type": "execute_result"
    }
   ],
   "source": [
    "list_hw_1 = [[1,2,3,4],[5,6,7,8]]\n",
    "list_hw_1"
   ]
  },
  {
   "cell_type": "markdown",
   "metadata": {},
   "source": [
    "### 8. Find the length of this 2-D list. "
   ]
  },
  {
   "cell_type": "code",
   "execution_count": 15,
   "metadata": {},
   "outputs": [
    {
     "data": {
      "text/plain": [
       "2"
      ]
     },
     "execution_count": 15,
     "metadata": {},
     "output_type": "execute_result"
    }
   ],
   "source": [
    "len(list_hw_1)"
   ]
  },
  {
   "cell_type": "markdown",
   "metadata": {},
   "source": [
    "### 9. Fint the length of one of its sublists. "
   ]
  },
  {
   "cell_type": "code",
   "execution_count": 16,
   "metadata": {},
   "outputs": [
    {
     "data": {
      "text/plain": [
       "4"
      ]
     },
     "execution_count": 16,
     "metadata": {},
     "output_type": "execute_result"
    }
   ],
   "source": [
    "len(list_hw_1[0])\n",
    "#len(list_hw_1[1])"
   ]
  },
  {
   "cell_type": "markdown",
   "metadata": {},
   "source": [
    "### 10. Verify its type. "
   ]
  },
  {
   "cell_type": "code",
   "execution_count": 17,
   "metadata": {},
   "outputs": [
    {
     "data": {
      "text/plain": [
       "list"
      ]
     },
     "execution_count": 17,
     "metadata": {},
     "output_type": "execute_result"
    }
   ],
   "source": [
    "type(list_hw_1)"
   ]
  },
  {
   "cell_type": "markdown",
   "metadata": {},
   "source": [
    "### 11. Use the <i>np.array()</i> function to create an array out of <i> list_hw_1</i> and display it on screen."
   ]
  },
  {
   "cell_type": "code",
   "execution_count": 18,
   "metadata": {},
   "outputs": [],
   "source": [
    "array_hw_4 = np.array(list_hw_1)"
   ]
  },
  {
   "cell_type": "code",
   "execution_count": 19,
   "metadata": {},
   "outputs": [
    {
     "data": {
      "text/plain": [
       "array([[1, 2, 3, 4],\n",
       "       [5, 6, 7, 8]])"
      ]
     },
     "execution_count": 19,
     "metadata": {},
     "output_type": "execute_result"
    }
   ],
   "source": [
    "array_hw_4"
   ]
  },
  {
   "cell_type": "markdown",
   "metadata": {},
   "source": [
    "### 12. Create two more variables and display them on screen:\n",
    "    A) A list which is the sum of the two sublists of list_hw_1;\n",
    "    B) An array which is the sum of the two subarrays of array_hw_4;\n",
    "    \n",
    "    (Hint: Use indexing to refer to the different sub-lists/arrays)"
   ]
  },
  {
   "cell_type": "code",
   "execution_count": 20,
   "metadata": {},
   "outputs": [],
   "source": [
    "list_sum = list_hw_1[0] + list_hw_1[1]"
   ]
  },
  {
   "cell_type": "code",
   "execution_count": 21,
   "metadata": {},
   "outputs": [],
   "source": [
    "array_sum = array_hw_4[0] + array_hw_4[1]"
   ]
  },
  {
   "cell_type": "code",
   "execution_count": 22,
   "metadata": {},
   "outputs": [
    {
     "data": {
      "text/plain": [
       "[1, 2, 3, 4, 5, 6, 7, 8]"
      ]
     },
     "execution_count": 22,
     "metadata": {},
     "output_type": "execute_result"
    }
   ],
   "source": [
    "list_sum"
   ]
  },
  {
   "cell_type": "code",
   "execution_count": 23,
   "metadata": {},
   "outputs": [
    {
     "data": {
      "text/plain": [
       "array([ 6,  8, 10, 12])"
      ]
     },
     "execution_count": 23,
     "metadata": {},
     "output_type": "execute_result"
    }
   ],
   "source": [
    "array_sum"
   ]
  },
  {
   "cell_type": "markdown",
   "metadata": {},
   "source": [
    "### 13. Find the square roots of all the elements in <i> array_sum </i>\n",
    "   <i> (<b>Hint</b>: Use the np.sqrt() function)"
   ]
  },
  {
   "cell_type": "code",
   "execution_count": 24,
   "metadata": {},
   "outputs": [
    {
     "data": {
      "text/plain": [
       "array([2.44948974, 2.82842712, 3.16227766, 3.46410162])"
      ]
     },
     "execution_count": 24,
     "metadata": {},
     "output_type": "execute_result"
    }
   ],
   "source": [
    "np.sqrt(array_sum)"
   ]
  },
  {
   "cell_type": "markdown",
   "metadata": {},
   "source": [
    "### 13. Find the square roots of all the elements in <i> list_sum </i>\n",
    "   <i> (<b>Hint</b>: Most NumPy functions are equipped to handle <b> lists </b>like ndarrays with the same shape)"
   ]
  },
  {
   "cell_type": "code",
   "execution_count": 25,
   "metadata": {
    "scrolled": true
   },
   "outputs": [
    {
     "data": {
      "text/plain": [
       "array([1.        , 1.41421356, 1.73205081, 2.        , 2.23606798,\n",
       "       2.44948974, 2.64575131, 2.82842712])"
      ]
     },
     "execution_count": 25,
     "metadata": {},
     "output_type": "execute_result"
    }
   ],
   "source": [
    "np.sqrt(list_sum)"
   ]
  },
  {
   "cell_type": "markdown",
   "metadata": {},
   "source": [
    "### 14. Use <i> np.genfromtxt() </i> to import the <i> \"Lending-Company-Total-Price.csv\" </i> file as strings and display its contents.\n",
    "    You can open the file in a text editor like Notepad++ to check its delimiter. "
   ]
  },
  {
   "cell_type": "code",
   "execution_count": 26,
   "metadata": {},
   "outputs": [
    {
     "data": {
      "text/plain": [
       "array([['LoanID', 'StringID', 'Product', ..., 'Location', 'Region',\n",
       "        'TotalPrice'],\n",
       "       ['1', 'id_1', 'Product B', ..., 'Location 2', 'Region 2', '16600'],\n",
       "       ['2', 'id_2', 'Product B', ..., 'Location 3', '', '16600'],\n",
       "       ...,\n",
       "       ['413', 'id_413', 'Product B', ..., 'Location 135', 'Region 1',\n",
       "        '16600'],\n",
       "       ['414', 'id_414', 'Product C', ..., 'Location 200', 'Region 6',\n",
       "        '15600'],\n",
       "       ['415', 'id_415', 'Product A', ..., 'Location 8', 'Region 2',\n",
       "        '22250']], dtype='<U14')"
      ]
     },
     "execution_count": 26,
     "metadata": {},
     "output_type": "execute_result"
    }
   ],
   "source": [
    "lending_co_TP = np.genfromtxt(\"Lending-Company-Total-Price.csv\", \n",
    "                              delimiter = ',',\n",
    "                              dtype = np.str,\n",
    "                             )\n",
    "lending_co_TP"
   ]
  },
  {
   "cell_type": "markdown",
   "metadata": {},
   "source": [
    "### 15. Use the <i> skip_header </i> and <i> usecols </i> parameters to only take the numerical data from the file. Then, let's see how the inputs change if we alter the datatype argument to:\n",
    "\n",
    "    A) The default (not specify it)\n",
    "    B) 32-bit integers (np.int32)\n",
    "    C) 32-bit floats (np.float32)\n",
    "    D) 64-bit complex numbers (np.complex64)\n",
    "    E) Unicode (np.unicode)\n",
    "    F) Objects (np.object)\n",
    "    G) None"
   ]
  },
  {
   "cell_type": "code",
   "execution_count": 27,
   "metadata": {},
   "outputs": [
    {
     "data": {
      "text/plain": [
       "array([[1.0000e+00, 1.6600e+04],\n",
       "       [2.0000e+00, 1.6600e+04],\n",
       "       [3.0000e+00, 1.5600e+04],\n",
       "       [4.0000e+00, 1.6600e+04],\n",
       "       [5.0000e+00, 2.0250e+04],\n",
       "       [6.0000e+00,        nan],\n",
       "       [7.0000e+00, 2.0250e+04],\n",
       "       [8.0000e+00, 1.6600e+04],\n",
       "       [9.0000e+00, 2.2250e+04],\n",
       "       [1.0000e+01, 2.0250e+04],\n",
       "       [1.1000e+01, 1.6600e+04],\n",
       "       [1.2000e+01, 2.0250e+04],\n",
       "       [1.3000e+01, 1.6600e+04],\n",
       "       [1.4000e+01, 2.0750e+04],\n",
       "       [1.5000e+01, 2.2250e+04],\n",
       "       [1.6000e+01, 1.6600e+04],\n",
       "       [1.7000e+01, 2.2250e+04],\n",
       "       [1.8000e+01, 1.6600e+04],\n",
       "       [1.9000e+01, 1.6600e+04],\n",
       "       [2.0000e+01, 5.4625e+04],\n",
       "       [2.1000e+01, 1.6600e+04],\n",
       "       [2.2000e+01, 2.2250e+04],\n",
       "       [2.3000e+01, 1.9250e+04],\n",
       "       [2.4000e+01, 1.5600e+04],\n",
       "       [2.5000e+01, 2.0250e+04],\n",
       "       [2.6000e+01, 2.2250e+04],\n",
       "       [2.7000e+01, 1.9250e+04],\n",
       "       [2.8000e+01, 6.9225e+04],\n",
       "       [2.9000e+01, 2.0250e+04],\n",
       "       [3.0000e+01, 1.6600e+04],\n",
       "       [3.1000e+01, 1.6600e+04],\n",
       "       [3.2000e+01, 1.6600e+04],\n",
       "       [3.3000e+01, 1.9250e+04],\n",
       "       [3.4000e+01, 1.6600e+04],\n",
       "       [3.5000e+01, 1.9250e+04],\n",
       "       [3.6000e+01, 1.6600e+04],\n",
       "       [3.7000e+01, 1.6600e+04],\n",
       "       [3.8000e+01, 1.6600e+04],\n",
       "       [3.9000e+01, 1.5600e+04],\n",
       "       [4.0000e+01, 1.6600e+04],\n",
       "       [4.1000e+01, 1.6600e+04],\n",
       "       [4.2000e+01, 1.6600e+04],\n",
       "       [4.3000e+01, 1.9250e+04],\n",
       "       [4.4000e+01, 1.5600e+04],\n",
       "       [4.5000e+01, 1.9250e+04],\n",
       "       [4.6000e+01, 1.6600e+04],\n",
       "       [4.7000e+01, 1.6600e+04],\n",
       "       [4.8000e+01, 1.6600e+04],\n",
       "       [4.9000e+01, 2.0250e+04],\n",
       "       [5.0000e+01, 2.2250e+04],\n",
       "       [5.1000e+01, 1.6600e+04],\n",
       "       [5.2000e+01, 2.0250e+04],\n",
       "       [5.3000e+01, 2.0250e+04],\n",
       "       [5.4000e+01, 1.6600e+04],\n",
       "       [5.5000e+01, 1.6600e+04],\n",
       "       [5.6000e+01, 1.6600e+04],\n",
       "       [5.7000e+01,        nan],\n",
       "       [5.8000e+01, 1.6600e+04],\n",
       "       [5.9000e+01, 1.6600e+04],\n",
       "       [6.0000e+01, 1.6600e+04],\n",
       "       [6.1000e+01, 1.9250e+04],\n",
       "       [6.2000e+01, 1.5600e+04],\n",
       "       [6.3000e+01, 1.5600e+04],\n",
       "       [6.4000e+01, 2.0250e+04],\n",
       "       [6.5000e+01, 1.6600e+04],\n",
       "       [6.6000e+01, 2.2250e+04],\n",
       "       [6.7000e+01, 2.2250e+04],\n",
       "       [6.8000e+01, 2.0250e+04],\n",
       "       [6.9000e+01, 2.0250e+04],\n",
       "       [7.0000e+01, 1.6600e+04],\n",
       "       [7.1000e+01, 1.5600e+04],\n",
       "       [7.2000e+01, 1.6600e+04],\n",
       "       [7.3000e+01, 1.6600e+04],\n",
       "       [7.4000e+01, 2.2250e+04],\n",
       "       [7.5000e+01, 2.0750e+04],\n",
       "       [7.6000e+01, 2.2250e+04],\n",
       "       [7.7000e+01, 1.9250e+04],\n",
       "       [7.8000e+01, 2.0250e+04],\n",
       "       [7.9000e+01, 2.0250e+04],\n",
       "       [8.0000e+01, 2.0250e+04],\n",
       "       [8.1000e+01, 1.9250e+04],\n",
       "       [8.2000e+01, 1.6600e+04],\n",
       "       [8.3000e+01, 2.2250e+04],\n",
       "       [8.4000e+01, 2.0250e+04],\n",
       "       [8.5000e+01, 1.6600e+04],\n",
       "       [8.6000e+01, 1.9250e+04],\n",
       "       [8.7000e+01, 2.2250e+04],\n",
       "       [8.8000e+01, 1.6600e+04],\n",
       "       [8.9000e+01, 1.9250e+04],\n",
       "       [9.0000e+01, 1.6600e+04],\n",
       "       [9.1000e+01,        nan],\n",
       "       [9.2000e+01, 2.0250e+04],\n",
       "       [9.3000e+01, 1.6600e+04],\n",
       "       [9.4000e+01, 1.6600e+04],\n",
       "       [9.5000e+01, 1.9250e+04],\n",
       "       [9.6000e+01, 1.6600e+04],\n",
       "       [9.7000e+01, 1.6600e+04],\n",
       "       [9.8000e+01, 2.2250e+04],\n",
       "       [9.9000e+01, 2.2250e+04],\n",
       "       [1.0000e+02, 1.6600e+04],\n",
       "       [1.0100e+02, 1.6600e+04],\n",
       "       [1.0200e+02, 1.9250e+04],\n",
       "       [1.0300e+02, 1.6600e+04],\n",
       "       [1.0400e+02, 2.2250e+04],\n",
       "       [1.0500e+02, 1.9250e+04],\n",
       "       [1.0600e+02, 1.6600e+04],\n",
       "       [1.0700e+02, 1.6600e+04],\n",
       "       [1.0800e+02, 1.9250e+04],\n",
       "       [1.0900e+02, 1.6600e+04],\n",
       "       [1.1000e+02, 2.2250e+04],\n",
       "       [1.1100e+02, 1.6600e+04],\n",
       "       [1.1200e+02, 1.5600e+04],\n",
       "       [1.1300e+02, 1.6600e+04],\n",
       "       [1.1400e+02, 2.0250e+04],\n",
       "       [1.1500e+02, 1.6600e+04],\n",
       "       [1.1600e+02, 1.9250e+04],\n",
       "       [1.1700e+02, 1.9250e+04],\n",
       "       [1.1800e+02, 1.9250e+04],\n",
       "       [1.1900e+02, 1.5600e+04],\n",
       "       [1.2000e+02, 2.2250e+04],\n",
       "       [1.2100e+02, 2.2250e+04],\n",
       "       [1.2200e+02, 1.6600e+04],\n",
       "       [1.2300e+02, 2.0250e+04],\n",
       "       [1.2400e+02, 1.6600e+04],\n",
       "       [1.2500e+02, 1.6600e+04],\n",
       "       [1.2600e+02, 2.0750e+04],\n",
       "       [1.2700e+02, 2.0250e+04],\n",
       "       [1.2800e+02, 1.6600e+04],\n",
       "       [1.2900e+02, 1.6600e+04],\n",
       "       [1.3000e+02, 1.6600e+04],\n",
       "       [1.3100e+02, 1.5600e+04],\n",
       "       [1.3200e+02, 1.6600e+04],\n",
       "       [1.3300e+02, 1.5600e+04],\n",
       "       [1.3400e+02, 1.9250e+04],\n",
       "       [1.3500e+02, 1.6600e+04],\n",
       "       [1.3600e+02, 1.6600e+04],\n",
       "       [1.3700e+02, 2.0250e+04],\n",
       "       [1.3800e+02, 1.9250e+04],\n",
       "       [1.3900e+02, 1.5600e+04],\n",
       "       [1.4000e+02, 1.6600e+04],\n",
       "       [1.4100e+02, 1.6600e+04],\n",
       "       [1.4200e+02, 1.6600e+04],\n",
       "       [1.4300e+02, 1.5600e+04],\n",
       "       [1.4400e+02, 1.6600e+04],\n",
       "       [1.4500e+02, 1.5600e+04],\n",
       "       [1.4600e+02, 1.9250e+04],\n",
       "       [1.4700e+02, 2.2250e+04],\n",
       "       [1.4800e+02, 2.0250e+04],\n",
       "       [1.4900e+02, 1.9250e+04],\n",
       "       [1.5000e+02, 2.2250e+04],\n",
       "       [1.5100e+02, 1.6600e+04],\n",
       "       [1.5200e+02, 2.2250e+04],\n",
       "       [1.5300e+02, 5.4625e+04],\n",
       "       [1.5400e+02, 5.4625e+04],\n",
       "       [1.5500e+02, 1.6600e+04],\n",
       "       [1.5600e+02, 2.2250e+04],\n",
       "       [1.5700e+02, 2.2250e+04],\n",
       "       [1.5800e+02, 2.2250e+04],\n",
       "       [1.5900e+02, 2.2250e+04],\n",
       "       [1.6000e+02, 1.5600e+04],\n",
       "       [1.6100e+02,        nan],\n",
       "       [1.6200e+02, 1.6600e+04],\n",
       "       [1.6300e+02, 2.2250e+04],\n",
       "       [1.6400e+02, 2.0250e+04],\n",
       "       [1.6500e+02, 2.2250e+04],\n",
       "       [1.6600e+02, 1.6600e+04],\n",
       "       [1.6700e+02, 1.9250e+04],\n",
       "       [1.6800e+02, 2.0250e+04],\n",
       "       [1.6900e+02, 1.6600e+04],\n",
       "       [1.7000e+02, 2.0250e+04],\n",
       "       [1.7100e+02, 1.6600e+04],\n",
       "       [1.7200e+02, 1.6600e+04],\n",
       "       [1.7300e+02, 2.0250e+04],\n",
       "       [1.7400e+02, 2.0250e+04],\n",
       "       [1.7500e+02, 1.6600e+04],\n",
       "       [1.7600e+02, 2.0250e+04],\n",
       "       [1.7700e+02, 1.9250e+04],\n",
       "       [1.7800e+02, 1.6600e+04],\n",
       "       [1.7900e+02, 2.0750e+04],\n",
       "       [1.8000e+02, 2.0250e+04],\n",
       "       [1.8100e+02, 2.2250e+04],\n",
       "       [1.8200e+02, 1.6600e+04],\n",
       "       [1.8300e+02, 2.0250e+04],\n",
       "       [1.8400e+02, 2.0250e+04],\n",
       "       [1.8500e+02, 1.6600e+04],\n",
       "       [1.8600e+02, 2.0250e+04],\n",
       "       [1.8700e+02, 2.0750e+04],\n",
       "       [1.8800e+02, 1.6600e+04],\n",
       "       [1.8900e+02, 1.6600e+04],\n",
       "       [1.9000e+02, 2.2250e+04],\n",
       "       [1.9100e+02, 2.2250e+04],\n",
       "       [1.9200e+02, 2.2250e+04],\n",
       "       [1.9300e+02, 1.6600e+04],\n",
       "       [1.9400e+02, 5.4625e+04],\n",
       "       [1.9500e+02, 1.6600e+04],\n",
       "       [1.9600e+02, 2.2250e+04],\n",
       "       [1.9700e+02, 1.6600e+04],\n",
       "       [1.9800e+02, 2.0250e+04],\n",
       "       [1.9900e+02, 2.2250e+04],\n",
       "       [2.0000e+02, 1.5600e+04],\n",
       "       [2.0100e+02, 2.0250e+04],\n",
       "       [2.0200e+02, 1.6600e+04],\n",
       "       [2.0300e+02, 5.4625e+04],\n",
       "       [2.0400e+02, 1.6600e+04],\n",
       "       [2.0500e+02, 1.6600e+04],\n",
       "       [2.0600e+02, 2.2250e+04],\n",
       "       [2.0700e+02, 1.9250e+04],\n",
       "       [2.0800e+02, 1.9250e+04],\n",
       "       [2.0900e+02, 1.9250e+04],\n",
       "       [2.1000e+02, 2.2250e+04],\n",
       "       [2.1100e+02, 1.5600e+04],\n",
       "       [2.1200e+02, 2.2250e+04],\n",
       "       [2.1300e+02, 1.5600e+04],\n",
       "       [2.1400e+02, 1.6600e+04],\n",
       "       [2.1500e+02, 2.2250e+04],\n",
       "       [2.1600e+02, 2.2250e+04],\n",
       "       [2.1700e+02, 1.6600e+04],\n",
       "       [2.1800e+02, 2.0750e+04],\n",
       "       [2.1900e+02, 1.9250e+04],\n",
       "       [2.2000e+02, 1.6600e+04],\n",
       "       [2.2100e+02,        nan],\n",
       "       [2.2200e+02, 1.6600e+04],\n",
       "       [2.2300e+02, 2.2250e+04],\n",
       "       [2.2400e+02, 1.9250e+04],\n",
       "       [2.2500e+02, 1.6600e+04],\n",
       "       [2.2600e+02, 1.6600e+04],\n",
       "       [2.2700e+02, 1.9250e+04],\n",
       "       [2.2800e+02, 1.9250e+04],\n",
       "       [2.2900e+02, 1.6600e+04],\n",
       "       [2.3000e+02, 2.0250e+04],\n",
       "       [2.3100e+02, 2.2250e+04],\n",
       "       [2.3200e+02, 1.5600e+04],\n",
       "       [2.3300e+02, 1.6600e+04],\n",
       "       [2.3400e+02, 1.6600e+04],\n",
       "       [2.3500e+02, 5.4625e+04],\n",
       "       [2.3600e+02, 1.9250e+04],\n",
       "       [2.3700e+02, 2.2250e+04],\n",
       "       [2.3800e+02, 1.6600e+04],\n",
       "       [2.3900e+02, 2.2250e+04],\n",
       "       [2.4000e+02, 1.9250e+04],\n",
       "       [2.4100e+02, 1.9250e+04],\n",
       "       [2.4200e+02, 2.0750e+04],\n",
       "       [2.4300e+02, 2.0750e+04],\n",
       "       [2.4400e+02, 1.6600e+04],\n",
       "       [2.4500e+02, 1.6600e+04],\n",
       "       [2.4600e+02, 2.2250e+04],\n",
       "       [2.4700e+02, 1.6600e+04],\n",
       "       [2.4800e+02, 1.6600e+04],\n",
       "       [2.4900e+02, 1.6600e+04],\n",
       "       [2.5000e+02, 1.6600e+04],\n",
       "       [2.5100e+02, 1.5600e+04],\n",
       "       [2.5200e+02, 1.9250e+04],\n",
       "       [2.5300e+02, 2.0250e+04],\n",
       "       [2.5400e+02, 2.2250e+04],\n",
       "       [2.5500e+02, 1.9250e+04],\n",
       "       [2.5600e+02, 2.2250e+04],\n",
       "       [2.5700e+02, 2.2250e+04],\n",
       "       [2.5800e+02, 2.2250e+04],\n",
       "       [2.5900e+02, 1.6600e+04],\n",
       "       [2.6000e+02, 2.0250e+04],\n",
       "       [2.6100e+02, 1.6600e+04],\n",
       "       [2.6200e+02, 1.6600e+04],\n",
       "       [2.6300e+02, 1.6600e+04],\n",
       "       [2.6400e+02, 1.9250e+04],\n",
       "       [2.6500e+02, 1.6600e+04],\n",
       "       [2.6600e+02, 1.6600e+04],\n",
       "       [2.6700e+02, 1.5600e+04],\n",
       "       [2.6800e+02, 1.6600e+04],\n",
       "       [2.6900e+02, 2.2250e+04],\n",
       "       [2.7000e+02, 1.9250e+04],\n",
       "       [2.7100e+02,        nan],\n",
       "       [2.7200e+02, 2.2250e+04],\n",
       "       [2.7300e+02, 1.5600e+04],\n",
       "       [2.7400e+02, 1.5600e+04],\n",
       "       [2.7500e+02, 1.6600e+04],\n",
       "       [2.7600e+02, 1.9250e+04],\n",
       "       [2.7700e+02, 1.6600e+04],\n",
       "       [2.7800e+02, 5.4625e+04],\n",
       "       [2.7900e+02, 1.6600e+04],\n",
       "       [2.8000e+02, 1.6600e+04],\n",
       "       [2.8100e+02, 1.6600e+04],\n",
       "       [2.8200e+02, 1.9250e+04],\n",
       "       [2.8300e+02, 2.2250e+04],\n",
       "       [2.8400e+02, 2.2250e+04],\n",
       "       [2.8500e+02, 1.6600e+04],\n",
       "       [2.8600e+02, 1.9250e+04],\n",
       "       [2.8700e+02, 1.9250e+04],\n",
       "       [2.8800e+02, 1.5600e+04],\n",
       "       [2.8900e+02, 5.4625e+04],\n",
       "       [2.9000e+02, 1.6600e+04],\n",
       "       [2.9100e+02, 1.6600e+04],\n",
       "       [2.9200e+02, 1.5600e+04],\n",
       "       [2.9300e+02, 2.0250e+04],\n",
       "       [2.9400e+02, 1.9250e+04],\n",
       "       [2.9500e+02, 1.9250e+04],\n",
       "       [2.9600e+02, 1.5600e+04],\n",
       "       [2.9700e+02, 1.5600e+04],\n",
       "       [2.9800e+02, 1.9250e+04],\n",
       "       [2.9900e+02, 1.6600e+04],\n",
       "       [3.0000e+02, 2.0250e+04],\n",
       "       [3.0100e+02, 2.0750e+04],\n",
       "       [3.0200e+02, 1.6600e+04],\n",
       "       [3.0300e+02, 1.6600e+04],\n",
       "       [3.0400e+02, 1.6600e+04],\n",
       "       [3.0500e+02, 2.2250e+04],\n",
       "       [3.0600e+02, 1.6600e+04],\n",
       "       [3.0700e+02, 2.2250e+04],\n",
       "       [3.0800e+02, 2.0250e+04],\n",
       "       [3.0900e+02, 1.6600e+04],\n",
       "       [3.1000e+02, 1.9250e+04],\n",
       "       [3.1100e+02, 2.2250e+04],\n",
       "       [3.1200e+02, 1.6600e+04],\n",
       "       [3.1300e+02, 1.5600e+04],\n",
       "       [3.1400e+02, 1.6600e+04],\n",
       "       [3.1500e+02, 1.6600e+04],\n",
       "       [3.1600e+02, 1.5600e+04],\n",
       "       [3.1700e+02, 1.6600e+04],\n",
       "       [3.1800e+02, 2.0250e+04],\n",
       "       [3.1900e+02, 1.9250e+04],\n",
       "       [3.2000e+02, 2.0250e+04],\n",
       "       [3.2100e+02, 1.6600e+04],\n",
       "       [3.2200e+02, 2.2250e+04],\n",
       "       [3.2300e+02, 1.6600e+04],\n",
       "       [3.2400e+02, 2.2250e+04],\n",
       "       [3.2500e+02, 2.2250e+04],\n",
       "       [3.2600e+02, 1.9250e+04],\n",
       "       [3.2700e+02, 5.4625e+04],\n",
       "       [3.2800e+02, 1.3775e+04],\n",
       "       [3.2900e+02, 1.6600e+04],\n",
       "       [3.3000e+02, 1.6600e+04],\n",
       "       [3.3100e+02,        nan],\n",
       "       [3.3200e+02, 2.0750e+04],\n",
       "       [3.3300e+02, 1.6600e+04],\n",
       "       [3.3400e+02, 1.9250e+04],\n",
       "       [3.3500e+02, 2.2250e+04],\n",
       "       [3.3600e+02, 2.0250e+04],\n",
       "       [3.3700e+02, 2.2250e+04],\n",
       "       [3.3800e+02, 1.9250e+04],\n",
       "       [3.3900e+02, 1.6600e+04],\n",
       "       [3.4000e+02, 1.5600e+04],\n",
       "       [3.4100e+02, 2.0250e+04],\n",
       "       [3.4200e+02, 2.2250e+04],\n",
       "       [3.4300e+02, 2.2250e+04],\n",
       "       [3.4400e+02, 1.6600e+04],\n",
       "       [3.4500e+02, 2.2250e+04],\n",
       "       [3.4600e+02, 2.0250e+04],\n",
       "       [3.4700e+02, 1.6600e+04],\n",
       "       [3.4800e+02, 2.2250e+04],\n",
       "       [3.4900e+02, 1.9250e+04],\n",
       "       [3.5000e+02, 1.6600e+04],\n",
       "       [3.5100e+02, 1.6600e+04],\n",
       "       [3.5200e+02, 1.5600e+04],\n",
       "       [3.5300e+02, 1.9250e+04],\n",
       "       [3.5400e+02, 1.6600e+04],\n",
       "       [3.5500e+02, 2.0250e+04],\n",
       "       [3.5600e+02, 1.6600e+04],\n",
       "       [3.5700e+02, 2.2250e+04],\n",
       "       [3.5800e+02, 1.6600e+04],\n",
       "       [3.5900e+02, 1.5600e+04],\n",
       "       [3.6000e+02, 2.0250e+04],\n",
       "       [3.6100e+02, 2.2250e+04],\n",
       "       [3.6200e+02, 2.0250e+04],\n",
       "       [3.6300e+02, 1.6600e+04],\n",
       "       [3.6400e+02, 2.2250e+04],\n",
       "       [3.6500e+02, 1.6600e+04],\n",
       "       [3.6600e+02, 1.6600e+04],\n",
       "       [3.6700e+02, 1.6600e+04],\n",
       "       [3.6800e+02, 2.0250e+04],\n",
       "       [3.6900e+02, 1.6600e+04],\n",
       "       [3.7000e+02, 1.6600e+04],\n",
       "       [3.7100e+02, 1.6600e+04],\n",
       "       [3.7200e+02, 1.9250e+04],\n",
       "       [3.7300e+02, 2.0250e+04],\n",
       "       [3.7400e+02, 1.6600e+04],\n",
       "       [3.7500e+02, 1.6600e+04],\n",
       "       [3.7600e+02, 2.2250e+04],\n",
       "       [3.7700e+02, 1.9250e+04],\n",
       "       [3.7800e+02, 2.2250e+04],\n",
       "       [3.7900e+02, 1.6600e+04],\n",
       "       [3.8000e+02, 1.9250e+04],\n",
       "       [3.8100e+02,        nan],\n",
       "       [3.8200e+02, 2.0250e+04],\n",
       "       [3.8300e+02, 2.0750e+04],\n",
       "       [3.8400e+02, 1.6600e+04],\n",
       "       [3.8500e+02, 1.6600e+04],\n",
       "       [3.8600e+02, 1.6600e+04],\n",
       "       [3.8700e+02, 1.6600e+04],\n",
       "       [3.8800e+02, 2.0250e+04],\n",
       "       [3.8900e+02, 1.6600e+04],\n",
       "       [3.9000e+02, 2.2250e+04],\n",
       "       [3.9100e+02, 1.5600e+04],\n",
       "       [3.9200e+02, 1.6600e+04],\n",
       "       [3.9300e+02, 1.6600e+04],\n",
       "       [3.9400e+02, 1.5600e+04],\n",
       "       [3.9500e+02, 1.6600e+04],\n",
       "       [3.9600e+02, 1.5600e+04],\n",
       "       [3.9700e+02, 1.9250e+04],\n",
       "       [3.9800e+02, 2.0250e+04],\n",
       "       [3.9900e+02, 1.6600e+04],\n",
       "       [4.0000e+02, 1.6600e+04],\n",
       "       [4.0100e+02, 1.6600e+04],\n",
       "       [4.0200e+02, 1.6600e+04],\n",
       "       [4.0300e+02, 1.5600e+04],\n",
       "       [4.0400e+02, 1.6600e+04],\n",
       "       [4.0500e+02, 1.9250e+04],\n",
       "       [4.0600e+02, 1.6600e+04],\n",
       "       [4.0700e+02, 2.0250e+04],\n",
       "       [4.0800e+02, 2.0250e+04],\n",
       "       [4.0900e+02, 6.9225e+04],\n",
       "       [4.1000e+02, 1.5600e+04],\n",
       "       [4.1100e+02, 1.6600e+04],\n",
       "       [4.1200e+02, 1.6600e+04],\n",
       "       [4.1300e+02, 1.6600e+04],\n",
       "       [4.1400e+02, 1.5600e+04],\n",
       "       [4.1500e+02, 2.2250e+04]])"
      ]
     },
     "execution_count": 27,
     "metadata": {},
     "output_type": "execute_result"
    }
   ],
   "source": [
    "lending_co_TP = np.genfromtxt(\"Lending-Company-Total-Price.csv\", \n",
    "                              #                       # A)\n",
    "                              # dtype = np.int32,     # B)\n",
    "                              # dtype = np.float32,   # C)\n",
    "                              # dtype = np.complex64, # D)\n",
    "                              # dtype = np.unicode,   # E)\n",
    "                              # dtype = np.objects,   # F)\n",
    "                              # dype = None           # G)\n",
    "                              delimiter = ',',\n",
    "                              skip_header = 1, \n",
    "                              usecols = (0,-1),\n",
    "                             )\n",
    "lending_co_TP"
   ]
  },
  {
   "cell_type": "markdown",
   "metadata": {},
   "source": [
    "### 16. Setting the datatype to None means the function automatically chooses the datatype for each column of the text file, so let's see how this works for all the columns."
   ]
  },
  {
   "cell_type": "code",
   "execution_count": 28,
   "metadata": {},
   "outputs": [
    {
     "name": "stderr",
     "output_type": "stream",
     "text": [
      "C:\\ProgramData\\Anaconda3\\lib\\site-packages\\ipykernel_launcher.py:3: VisibleDeprecationWarning: Reading unicode strings without specifying the encoding argument is deprecated. Set the encoding, use None for the system default.\n",
      "  This is separate from the ipykernel package so we can avoid doing imports until\n"
     ]
    },
    {
     "data": {
      "text/plain": [
       "array([[b'LoanID', b'StringID', b'Product', ..., b'Location', b'Region',\n",
       "        b'TotalPrice'],\n",
       "       [b'1', b'id_1', b'Product B', ..., b'Location 2', b'Region 2',\n",
       "        b'16600'],\n",
       "       [b'2', b'id_2', b'Product B', ..., b'Location 3', b'', b'16600'],\n",
       "       ...,\n",
       "       [b'413', b'id_413', b'Product B', ..., b'Location 135',\n",
       "        b'Region 1', b'16600'],\n",
       "       [b'414', b'id_414', b'Product C', ..., b'Location 200',\n",
       "        b'Region 6', b'15600'],\n",
       "       [b'415', b'id_415', b'Product A', ..., b'Location 8', b'Region 2',\n",
       "        b'22250']], dtype='|S14')"
      ]
     },
     "execution_count": 28,
     "metadata": {},
     "output_type": "execute_result"
    }
   ],
   "source": [
    "lending_co_TP = np.genfromtxt(\"Lending-Company-Total-Price.csv\", \n",
    "                              delimiter = ',',\n",
    "                              dtype = None, \n",
    "                             )\n",
    "lending_co_TP"
   ]
  },
  {
   "cell_type": "code",
   "execution_count": null,
   "metadata": {},
   "outputs": [],
   "source": []
  }
 ],
 "metadata": {
  "kernelspec": {
   "display_name": "Python 3",
   "language": "python",
   "name": "python3"
  },
  "language_info": {
   "codemirror_mode": {
    "name": "ipython",
    "version": 3
   },
   "file_extension": ".py",
   "mimetype": "text/x-python",
   "name": "python",
   "nbconvert_exporter": "python",
   "pygments_lexer": "ipython3",
   "version": "3.7.6"
  }
 },
 "nbformat": 4,
 "nbformat_minor": 2
}
